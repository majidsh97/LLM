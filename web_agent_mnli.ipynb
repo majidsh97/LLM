{
 "cells": [
  {
   "cell_type": "code",
   "execution_count": null,
   "metadata": {},
   "outputs": [],
   "source": [
    "from transformers import AutoModel,AutoTokenizer , Trainer,TrainingArguments,BitsAndBytesConfig,pipeline\n",
    "from peft import get_peft_model,LoraConfig\n",
    "import datasets\n",
    "import torchmetrics\n",
    "import torch\n",
    "from hqq.engine.hf import HQQModelForCausalLM\n",
    "from hqq.models.hf.base import AutoHQQHFModel\n",
    "from huggingface_hub import snapshot_download\n",
    "#import deepspeed\n",
    "import os\n",
    "import pandas as pd\n",
    "\n",
    "cache_dir='/proj/ciptmp/ix05ogym/.cache/'\n"
   ]
  },
  {
   "cell_type": "code",
   "execution_count": null,
   "metadata": {},
   "outputs": [],
   "source": [
    "mydata = pd.read_pickle('input_text.pkl')\n",
    "mydata.pop('label')\n",
    "mydata['labels'].unique()"
   ]
  },
  {
   "cell_type": "code",
   "execution_count": null,
   "metadata": {},
   "outputs": [],
   "source": [
    "tokenizer = AutoTokenizer.from_pretrained(\"roberta-large-mnli\" , cache_dir=cache_dir)\n",
    "#x = tokenizer(\"[[xpath]]\")\n",
    "#tokenizer.convert_ids_to_tokens(x['input_ids'])\n",
    "#tokenizer.additional_special_tokens"
   ]
  },
  {
   "cell_type": "code",
   "execution_count": null,
   "metadata": {},
   "outputs": [],
   "source": [
    "#weblinx_dataset = datasets.load_dataset('',cache_dir=cache_dir)\n",
    "#weblinx_dataset.keys()\n"
   ]
  },
  {
   "cell_type": "code",
   "execution_count": null,
   "metadata": {},
   "outputs": [],
   "source": [
    "model_name = \"FacebookAI/roberta-large-mnli\"\n",
    "#config = BitsAndBytesConfig(\n",
    "    #load_in_4bit=True,\n",
    "\n",
    "    #load_in_8bit=True,\n",
    "    \n",
    "    #bnb_4bit_quant_type=\"nf4\",\n",
    "    #bnb_4bit_use_double_quant=True,\n",
    "    #bnb_4bit_compute_dtype=torch.bfloat16,\n",
    "    #)\n",
    "\n",
    "\n",
    "model = AutoModel.from_pretrained(model_name,\n",
    "                          #quantization_config=GPTQConfig(bits=4, disable_exllama=False),\n",
    "                          #load_in_8bit=True,\n",
    "                          cache_dir=cache_dir).cuda()\n",
    "\n",
    "\n",
    "print(model)\n",
    "\n",
    "\n",
    "\"\"\"\n",
    "#https://huggingface.co/docs/transformers/main/en/quantization/hqq\n",
    "try:\n",
    " model_hqq = HQQModelForCausalLM.from_quantized(model_name, device_map='auto',cache_dir=cache_dir).half()#.to(torch.bfloat16) #.half()\n",
    "except: \n",
    " model_hqq = AutoHQQHFModel.from_quantized(model_name,cache_dir=cache_dir)\n",
    " \n",
    "\"\"\"\n",
    " \n",
    "\n"
   ]
  },
  {
   "cell_type": "code",
   "execution_count": null,
   "metadata": {},
   "outputs": [],
   "source": [
    "pip = pipeline('zero-shot-classification',model = model)#pipeline_class=['email','firstname','lastname','cv'])\n",
    "sequence_to_classify = \"one day I will see the world\"\n",
    "candidate_labels = ['travel', 'cooking', 'dancing']\n",
    "o = pip(sequence_to_classify, candidate_labels)\n",
    "\n",
    "print(o)"
   ]
  },
  {
   "cell_type": "code",
   "execution_count": null,
   "metadata": {},
   "outputs": [],
   "source": [
    "#model = model.eval()\n",
    "#input_ids = tokenizer(\"create an html apply button?\", return_tensors='pt').to('cuda')[\"input_ids\"]\n",
    "#outputs = model.generate(input_ids, max_new_tokens=216)\n",
    "#tokenizer.decode(outputs[0])"
   ]
  }
 ],
 "metadata": {
  "kernelspec": {
   "display_name": "myenv",
   "language": "python",
   "name": "python3"
  },
  "language_info": {
   "codemirror_mode": {
    "name": "ipython",
    "version": 3
   },
   "file_extension": ".py",
   "mimetype": "text/x-python",
   "name": "python",
   "nbconvert_exporter": "python",
   "pygments_lexer": "ipython3",
   "version": "3.11.2"
  }
 },
 "nbformat": 4,
 "nbformat_minor": 2
}
