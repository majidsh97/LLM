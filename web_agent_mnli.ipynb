{
 "cells": [
  {
   "cell_type": "code",
   "execution_count": 90,
   "metadata": {},
   "outputs": [],
   "source": [
    "from transformers import AutoModelForSequenceClassification,AutoTokenizer , Trainer,TrainingArguments,BitsAndBytesConfig,pipeline,default_data_collator\n",
    "from peft import get_peft_model,LoraConfig\n",
    "import datasets\n",
    "import torchmetrics\n",
    "import torch\n",
    "from hqq.engine.hf import HQQModelForCausalLM\n",
    "from hqq.models.hf.base import AutoHQQHFModel\n",
    "from huggingface_hub import snapshot_download\n",
    "#import deepspeed\n",
    "import os\n",
    "import pandas as pd\n",
    "import json\n",
    "from var_dump import var_dump\n",
    "\n",
    "cache_dir='/proj/ciptmp/ix05ogym/.cache/'\n"
   ]
  },
  {
   "cell_type": "code",
   "execution_count": 101,
   "metadata": {},
   "outputs": [],
   "source": [
    "#number 4 click on div\n",
    "train_dataset = datasets.load_dataset('osunlp/Mind2Web',split=\"train[:5]\",cache_dir=cache_dir)"
   ]
  },
  {
   "cell_type": "code",
   "execution_count": null,
   "metadata": {},
   "outputs": [],
   "source": []
  },
  {
   "cell_type": "code",
   "execution_count": 100,
   "metadata": {},
   "outputs": [
    {
     "name": "stdout",
     "output_type": "stream",
     "text": [
      "dict_keys(['website', 'actions', 'domain', 'confirmed_task', 'annotation_id', 'subdomain', 'action_reprs'])\n",
      "dict_keys(['action_uid', 'cleaned_html', 'neg_candidates', 'operation', 'pos_candidates', 'raw_html'])\n",
      "Find the highest rated dog collar under 10 dollar.\n",
      "a [link]  Pet -> CLICK | \n",
      "span [span]  Pet Type -> CLICK | \n",
      "a [link]  Dog (1,338) -> CLICK | \n",
      "span [span]  Category -> CLICK | \n",
      "a [link]  Collars & Leashes (485) -> CLICK | \n",
      "a [link]  Sort by: Featured -> CLICK | \n",
      "a [link]  Highest Rated -> CLICK | \n",
      "div [div]  Price -> CLICK | \n",
      "span [div]  Price -> CLICK | \n",
      "a [div]  Price -> CLICK | \n",
      "a [link]  Under $10 (1) -> CLICK | \n"
     ]
    }
   ],
   "source": [
    "d = train_dataset[4]\n",
    "#var_dump(d)\n",
    "print(d.keys())\n",
    "print(d['actions'][0].keys())\n",
    "#for x in d['actions'][0]['neg_candidates']:\n",
    "#    print(x)\n",
    "#print(d['actions'][0]['pos_candidates'][0].keys())\n",
    "print(d['confirmed_task'])\n",
    "for i in range(len(d['actions'])):\n",
    "    a = d['actions'][i]\n",
    "   \n",
    "    #print(a['operation'])\n",
    "\n",
    "    for pc in a['pos_candidates']:\n",
    "        cc = json.loads(pc['attributes'])\n",
    "        t=''\n",
    "        if 'text' in cc.keys():\n",
    "            t = cc['text']\n",
    "        print(pc['tag'], d['action_reprs'][i] ,'|', t)\n",
    "        \n",
    "        \n",
    "    \n",
    "    "
   ]
  },
  {
   "cell_type": "code",
   "execution_count": 2,
   "metadata": {},
   "outputs": [
    {
     "data": {
      "text/plain": [
       "array(['cv', 'email', 'firstname', 'lastname', 'submit', 'fake',\n",
       "       'phonenumber', 'transcript', 'question', 'agree', 'other',\n",
       "       'address', 'availablefrom', 'salary', 'xing', 'linkedin', 'cancel',\n",
       "       'picture', 'coverletter', 'housenumber', 'residentcounty',\n",
       "       'recommendation', 'website', 'workherebefore', 'twitter', 'github',\n",
       "       'birthdate', 'sex', 'citizencountry', 'postalcode', 'search',\n",
       "       'findus', 'next', 'cookie', 'dropbox', 'googledrive', 'workhours',\n",
       "       'visa', 'login', 'eligible', 'residentcountry', 'register', 'city',\n",
       "       'workduration', 'germanlevel', 'username', 'password', 'company',\n",
       "       'relocate', 'universityenrollment', 'englishlevel'], dtype=object)"
      ]
     },
     "execution_count": 2,
     "metadata": {},
     "output_type": "execute_result"
    }
   ],
   "source": [
    "mydata = pd.read_pickle('input_text.pkl')\n",
    "mydata.pop('label')\n",
    "mydata['labels'].unique()"
   ]
  },
  {
   "cell_type": "code",
   "execution_count": 3,
   "metadata": {},
   "outputs": [],
   "source": [
    "tokenizer = AutoTokenizer.from_pretrained(\"FacebookAI/roberta-large-mnli\" , cache_dir=cache_dir)\n",
    "#x = tokenizer(\"[[xpath]]\")\n",
    "#tokenizer.convert_ids_to_tokens(x['input_ids'])\n",
    "#tokenizer.additional_special_tokens"
   ]
  },
  {
   "cell_type": "code",
   "execution_count": 4,
   "metadata": {},
   "outputs": [],
   "source": [
    "#weblinx_dataset = datasets.load_dataset('',cache_dir=cache_dir)\n",
    "#weblinx_dataset.keys()\n"
   ]
  },
  {
   "cell_type": "code",
   "execution_count": 5,
   "metadata": {},
   "outputs": [
    {
     "name": "stderr",
     "output_type": "stream",
     "text": [
      "Some weights of the model checkpoint at FacebookAI/roberta-large-mnli were not used when initializing RobertaForSequenceClassification: ['roberta.pooler.dense.bias', 'roberta.pooler.dense.weight']\n",
      "- This IS expected if you are initializing RobertaForSequenceClassification from the checkpoint of a model trained on another task or with another architecture (e.g. initializing a BertForSequenceClassification model from a BertForPreTraining model).\n",
      "- This IS NOT expected if you are initializing RobertaForSequenceClassification from the checkpoint of a model that you expect to be exactly identical (initializing a BertForSequenceClassification model from a BertForSequenceClassification model).\n"
     ]
    },
    {
     "name": "stdout",
     "output_type": "stream",
     "text": [
      "RobertaForSequenceClassification(\n",
      "  (roberta): RobertaModel(\n",
      "    (embeddings): RobertaEmbeddings(\n",
      "      (word_embeddings): Embedding(50265, 1024, padding_idx=1)\n",
      "      (position_embeddings): Embedding(514, 1024, padding_idx=1)\n",
      "      (token_type_embeddings): Embedding(1, 1024)\n",
      "      (LayerNorm): LayerNorm((1024,), eps=1e-05, elementwise_affine=True)\n",
      "      (dropout): Dropout(p=0.1, inplace=False)\n",
      "    )\n",
      "    (encoder): RobertaEncoder(\n",
      "      (layer): ModuleList(\n",
      "        (0-23): 24 x RobertaLayer(\n",
      "          (attention): RobertaAttention(\n",
      "            (self): RobertaSelfAttention(\n",
      "              (query): Linear(in_features=1024, out_features=1024, bias=True)\n",
      "              (key): Linear(in_features=1024, out_features=1024, bias=True)\n",
      "              (value): Linear(in_features=1024, out_features=1024, bias=True)\n",
      "              (dropout): Dropout(p=0.1, inplace=False)\n",
      "            )\n",
      "            (output): RobertaSelfOutput(\n",
      "              (dense): Linear(in_features=1024, out_features=1024, bias=True)\n",
      "              (LayerNorm): LayerNorm((1024,), eps=1e-05, elementwise_affine=True)\n",
      "              (dropout): Dropout(p=0.1, inplace=False)\n",
      "            )\n",
      "          )\n",
      "          (intermediate): RobertaIntermediate(\n",
      "            (dense): Linear(in_features=1024, out_features=4096, bias=True)\n",
      "            (intermediate_act_fn): GELUActivation()\n",
      "          )\n",
      "          (output): RobertaOutput(\n",
      "            (dense): Linear(in_features=4096, out_features=1024, bias=True)\n",
      "            (LayerNorm): LayerNorm((1024,), eps=1e-05, elementwise_affine=True)\n",
      "            (dropout): Dropout(p=0.1, inplace=False)\n",
      "          )\n",
      "        )\n",
      "      )\n",
      "    )\n",
      "  )\n",
      "  (classifier): RobertaClassificationHead(\n",
      "    (dense): Linear(in_features=1024, out_features=1024, bias=True)\n",
      "    (dropout): Dropout(p=0.1, inplace=False)\n",
      "    (out_proj): Linear(in_features=1024, out_features=3, bias=True)\n",
      "  )\n",
      ")\n"
     ]
    },
    {
     "data": {
      "text/plain": [
       "\"\\n#https://huggingface.co/docs/transformers/main/en/quantization/hqq\\ntry:\\n model_hqq = HQQModelForCausalLM.from_quantized(model_name, device_map='auto',cache_dir=cache_dir).half()#.to(torch.bfloat16) #.half()\\nexcept: \\n model_hqq = AutoHQQHFModel.from_quantized(model_name,cache_dir=cache_dir)\\n \\n\""
      ]
     },
     "execution_count": 5,
     "metadata": {},
     "output_type": "execute_result"
    }
   ],
   "source": [
    "model_name = \"FacebookAI/roberta-large-mnli\"\n",
    "#config = BitsAndBytesConfig(\n",
    "    #load_in_4bit=True,\n",
    "\n",
    "    #load_in_8bit=True,\n",
    "    \n",
    "    #bnb_4bit_quant_type=\"nf4\",\n",
    "    #bnb_4bit_use_double_quant=True,\n",
    "    #bnb_4bit_compute_dtype=torch.bfloat16,\n",
    "    #)\n",
    "\n",
    "\n",
    "model = AutoModelForSequenceClassification.from_pretrained(model_name,\n",
    "                          #quantization_config=GPTQConfig(bits=4, disable_exllama=False),\n",
    "                          #load_in_8bit=True,\n",
    "                          cache_dir=cache_dir).cuda()\n",
    "\n",
    "\n",
    "print(model)\n",
    "\n",
    "\n",
    "\"\"\"\n",
    "#https://huggingface.co/docs/transformers/main/en/quantization/hqq\n",
    "try:\n",
    " model_hqq = HQQModelForCausalLM.from_quantized(model_name, device_map='auto',cache_dir=cache_dir).half()#.to(torch.bfloat16) #.half()\n",
    "except: \n",
    " model_hqq = AutoHQQHFModel.from_quantized(model_name,cache_dir=cache_dir)\n",
    " \n",
    "\"\"\"\n",
    " \n",
    "\n"
   ]
  },
  {
   "cell_type": "code",
   "execution_count": 74,
   "metadata": {},
   "outputs": [],
   "source": [
    "pip = pipeline('zero-shot-classification',model = model,tokenizer=tokenizer,device='cuda')#pipeline_class=['email','firstname','lastname','cv'])\n",
    "candidate_labels = mydata['labels'].unique()\n",
    "hypothesis = [f\"this text is about {label}\" for label in candidate_labels]\n",
    "\n",
    "def ppd(element):\n",
    "    sequence_to_classify = element\n",
    "    #print(sequence_to_classify)\n",
    "    #print(candidate_labels)\n",
    "\n",
    "    premises = [sequence_to_classify ] * len(hypothesis)\n",
    "    #print(hypothesis)\n",
    "    #print(premises)\n",
    "    tokenized_input = tokenizer(premises,hypothesis,return_tensors='pt',truncation=True,max_length=512,padding=True).to('cuda')\n",
    "    #print(x:= tokenized_input['input_ids'][0])\n",
    "    #print(tokenizer.convert_ids_to_tokens(x))\n",
    "    return tokenized_input\n",
    "    \n",
    "results = mydata['input_text'].map(ppd)\n",
    "\n",
    "#tokenized_input =  ppd(mydata.iloc[0,:])\n",
    "preds = []\n",
    "with torch.no_grad():\n",
    "    for d in results:\n",
    "    \n",
    "        o =  model(**d).logits\n",
    "        positive_index = 2\n",
    "        p=candidate_labels[o.argmax(0)[positive_index]]\n",
    "        #print([ (candidate_labels[i],o[i,2].detach().cpu().numpy())for i in o.argsort(0,descending=True)[:,2] ])\n",
    "        preds.append(p)\n",
    "        #break\n",
    "        pass\n",
    "\n",
    "\n",
    "\n"
   ]
  },
  {
   "cell_type": "code",
   "execution_count": 75,
   "metadata": {},
   "outputs": [],
   "source": [
    "mydata['preds']= preds"
   ]
  },
  {
   "cell_type": "code",
   "execution_count": 76,
   "metadata": {},
   "outputs": [
    {
     "data": {
      "text/plain": [
       "<Axes: >"
      ]
     },
     "execution_count": 76,
     "metadata": {},
     "output_type": "execute_result"
    },
    {
     "data": {
      "image/png": "[encoded data removed]",
      "text/plain": [
       "<Figure size 2000x1000 with 1 Axes>"
      ]
     },
     "metadata": {},
     "output_type": "display_data"
    }
   ],
   "source": [
    "mydata['labels'].hist(figsize=(20,10))"
   ]
  },
  {
   "cell_type": "code",
   "execution_count": null,
   "metadata": {},
   "outputs": [],
   "source": []
  },
  {
   "cell_type": "code",
   "execution_count": 81,
   "metadata": {},
   "outputs": [
    {
     "name": "stdout",
     "output_type": "stream",
     "text": [
      "['<input accept=\".doc, .docx, .pdf, .rtf, .txt\" type=\"file\" autocomplete=\"off\" tabindex=\"-1\" class=\"fileuploader___styledinput-sc-e2002db3-0 djcsgj\">', '<input class=\"application-file-input invisible-resume-upload\" data-qa=\"input-resume\" id=\"resume-upload-input\" name=\"resume\" tabindex=\"-1\" type=\"file\">', '<button name=\"button\" type=\"button\" data-source=\"attach\" class=\"unstyled-button link-button\" aria-describedby=\"resume-allowable-file-types\">attach</button>', '<button name=\"button\" type=\"button\" data-source=\"paste\" class=\"unstyled-button link-button\" aria-pressed=\"false\">or enter manually</button>', '<input type=\"file\" class=\"file-input\" name=\"az-f\" id=\"az-f\" required=\"\" accept=\".pdf,.doc,.docx,.png,.gif,.jpeg,.odt,.jpg\">', '<input style=\"display:none;width:1px;height:1px;\" data-field-name=\"candidate_profile.resume\" id=\"candidate_profile.resume\" class=\"file-upload\" name=\"candidate_profile.resume\" type=\"file\" autocomplete=\"off\">', '<a id=\"ctl00_maincontent_detailscontrol_ctl00_ctl00_xingbtn\" class=\"so-xing\" href=\"javascript:__dopostback(\\'ctl00$maincontent$detailscontrol$ctl00$ctl00$xingbtn\\',\\'\\')\"></a>', '<input type=\"file\" name=\"ctl00$maincontent$applycv$cvfileupload\" id=\"cvfileupload\" accept=\".doc, .docm, .docx, .pdf, rtf, .html, .htm\" onchange=\"if (this.value != \\'\\') { document.getelementbyid(\\'ctl00_maincontent_applycv_btnuploadcv\\').click(); }\" style=\"display: none;\">', '<input style=\"display:none\" type=\"file\" id=\"form_field_resume\" accept=\".pdf\" name=\"resume\">', '<input type=\"file\" id=\"file-upload-button\" name=\"file-upload-button\" accept=\".pdf,.ppt,.doc,.docx,.pptx,.xls,.xlsx,.tif,.tiff,.jpg,.bmp,.gif,.png,.txt,.rtf,.zip,.7z\">', '<input type=\"file\" aria-invalid=\"false\" data-has-input=\"false\" accept=\".pdf, .doc, .docx, .txt, .rtf\" name=\"resume\">', '<input name=\"candidateinformation.resume.file\" type=\"file\" required=\"\">', '<input type=\"file\" name=\"attachments\" hidden=\"\" tabindex=\"-1\" aria-invalid=\"false\" accept=\"application/pdf,.pdf,image/*,.jpg,.jpeg,.gif,.png,.bmp,.tif,.tiff,application/msword,.doc,application/vnd.ms-powerpoint,.ppt,.pps,application/vnd.openxmlformats-officedocument.wordprocessingml.document,.docx,application/vnd.openxmlformats-officedocument.presentationml.presentation,.pptx,.ppsx,application/vnd.oasis.opendocument.text,.odt,application/rtf,.rtf,application/vnd.oasis.opendocument.presentation,.odp,text/plain,.txt\" multiple=\"\" style=\"display:none\">', '<input class=\"fileuploadinput  \" id=\"\" type=\"file\" name=\"rec-form_29684000000011515_file\" accept=\"application/pdf,application/rtf,application/x-zip,application/msword,application/vnd.ms-word,application/vnd.oasis.opendocument.text,text/css,text/rtf,text/html,text/sgml,text/plain,text/richtext,text/enriched,text/tab-separated-values,application/vnd.openxmlformats-officedocument.wordprocessingml.document,application/vnd.openxmlformats-officedocument.spreadsheetml.sheet,application/vnd.ms-excel,application/zip,audio/*,video/*,image/x-icon,image/svg+xml,image/png,image/ief,image/rgb,image/jpeg,image/tiff,image/x-rgb,image/g3fax,image/x-xpixmap,image/gif,image/x-xbitmap,pdf,rtf,zipx,zip,doc,dot,docx,dotx,odt,css,html,htm,sgml,txt,xls,xlt,xla,xlsx,xltx,ppt,pot,pptx,pot,potx,mdb,jpeg,jpg,tiff,fax,png,gif,ico,svg\" change=\"lyte-fileupload => change(event,this)\">', '<input type=\"file\" class=\"dz-hidden-input\" accept=\".docx,.pptx,.pdf,.pages,.txt,.rtf\" id=\"candidate_resume_remote_url\" required=\"\" style=\"position: absolute; top: 0px; left: 0px; height: 100%; width: 100%; cursor: pointer; opacity: 0;\">', '<input name=\"file\" class=\"hidden\" id=\"jobs-document-upload-file-input-upload-resume-urn:li:fsu_jobapplicationfileuploadformelement:urn:li:jobs_applyformcommon_easyapplyformelement:(3940597247,33,document)\" accept=\"application/msword,application/vnd.openxmlformats-officedocument.wordprocessingml.document,application/pdf\" type=\"file\">', '<input class=\"fileuploadinput  \" id=\"\" type=\"file\" name=\"rec-form_1379000000011515_file\" accept=\"application/pdf,application/rtf,application/x-zip,application/msword,application/vnd.ms-word,application/vnd.oasis.opendocument.text,text/css,text/rtf,text/html,text/sgml,text/plain,text/richtext,text/enriched,text/tab-separated-values,application/vnd.openxmlformats-officedocument.wordprocessingml.document,application/vnd.openxmlformats-officedocument.spreadsheetml.sheet,application/vnd.ms-excel,application/zip,audio/*,video/*,image/x-icon,image/svg+xml,image/png,image/ief,image/rgb,image/jpeg,image/tiff,image/x-rgb,image/g3fax,image/x-xpixmap,image/gif,image/x-xbitmap,pdf,rtf,zipx,zip,doc,dot,docx,dotx,odt,css,html,htm,sgml,txt,xls,xlt,xla,xlsx,xltx,ppt,pot,pptx,pot,potx,mdb,jpeg,jpg,tiff,fax,png,gif,ico,svg\" change=\"lyte-fileupload => change(event,this)\">', '<input type=\"file\" name=\"attachments\" hidden=\"\" tabindex=\"-1\" aria-invalid=\"false\" accept=\"application/pdf,.pdf,image/*,.jpg,.jpeg,.gif,.png,.bmp,.tif,.tiff,application/vnd.ms-powerpoint,.ppt,.pps,application/vnd.openxmlformats-officedocument.presentationml.presentation,.pptx,.ppsx,application/vnd.oasis.opendocument.text,.odt,application/rtf,.rtf,application/vnd.oasis.opendocument.presentation,.odp,text/plain,.txt\" multiple=\"\" style=\"display:none\">', '<a href=\"javascript: void(0);\" title=\"lebenslauf hochladen\">lebenslauf hochladen</a>', '<input type=\"file\" size=\"20\" aria-labelledby=\"lebenslauf_caption\" tabindex=\"0\" id=\"fld_665e16d713bac810428444\" name=\"lebenslauf\" class=\"upload-field\">', '<input type=\"file\" size=\"20\" aria-labelledby=\"anlage1_caption\" tabindex=\"0\" id=\"fld_665e16d713d28542758449\" name=\"anlage1\" class=\"upload-field\">', '<input type=\"file\" size=\"20\" aria-labelledby=\"anlage2_caption\" tabindex=\"0\" id=\"fld_665e16d713e53517723283\" name=\"anlage2\" class=\"upload-field\">']\n"
     ]
    }
   ],
   "source": [
    "print(mydata[(mydata['labels']!=preds) & ( mydata['labels']=='cv')]['element'].tolist())\n",
    "#len(mydata[(mydata['labels']==preds)])/len(mydata)"
   ]
  },
  {
   "cell_type": "code",
   "execution_count": null,
   "metadata": {},
   "outputs": [],
   "source": [
    "#x = y.to_list()\n",
    "hypothesis_2 = [hypothesis ]* len(y)\n",
    "print(len(x) , len(hypothesis_2))\n",
    "\n",
    "for p,h in zip(y,hypothesis_2):\n",
    "    t  = tokenizer(p,h,return_tensors='pt',truncation=False,max_length=512,padding='max_length').to('cuda')\n",
    "    #input_ids.append(t['input_ids'])\n",
    "    #masks.append(t['attention_mask'])\n",
    "    #total.append(t)\n",
    "    with torch.no_grad():\n",
    "        model(**t)\n",
    "    breakss\n",
    "\n",
    "\n",
    "    \n"
   ]
  },
  {
   "cell_type": "code",
   "execution_count": null,
   "metadata": {},
   "outputs": [],
   "source": [
    "#d = {'input_ids':torch.vstack(input_ids) , 'attention_mask':torch.vstack(masks)}\n",
    "#d = default_data_collator(total)\n",
    "#d\n",
    "input()\n",
    "import torch.utils\n",
    "import torch.utils.data\n",
    "\n",
    "\n",
    "#d = datasets.Dataset.from_list(total)\n",
    "#d = torch.utils.data.DataLoader(total,32)\n",
    "#torch.utils.data.Dataset()\n",
    "d"
   ]
  },
  {
   "cell_type": "code",
   "execution_count": null,
   "metadata": {},
   "outputs": [],
   "source": [
    "#next(iter(d))['input_ids']\n",
    "#d[0]['input_ids'][0]\n",
    "del d\n",
    "with torch.no_grad():\n",
    "    for t in total:\n",
    "        model(**t)\n",
    "        break\n",
    "\n",
    "#d['input_ids'].shape\n"
   ]
  },
  {
   "cell_type": "code",
   "execution_count": null,
   "metadata": {},
   "outputs": [],
   "source": [
    "d['input_ids'].shape\n"
   ]
  },
  {
   "cell_type": "code",
   "execution_count": null,
   "metadata": {},
   "outputs": [],
   "source": [
    "with torch.no_grad():\n",
    "    for b in d:\n",
    "        print(b['input_ids'].shape)\n",
    "        o = model(input_ids=b['input_ids'])\n",
    "        print(o.logits)\n",
    "        \n"
   ]
  },
  {
   "cell_type": "code",
   "execution_count": null,
   "metadata": {},
   "outputs": [],
   "source": [
    "\"\"\"pip = pipeline('zero-shot-classification',model = model,tokenizer=tokenizer,device='cuda')#pipeline_class=['email','firstname','lastname','cv'])\n",
    "sequence_to_classify = mydata['element'][1]\n",
    "print(sequence_to_classify)\n",
    "candidate_labels = mydata['labels'].unique()\n",
    "print(candidate_labels)\n",
    "o = pip(sequence_to_classify, candidate_labels)\n",
    "\n",
    "hypothesis = [f\"this text is about {label}\" for label in candidate_labels]\n",
    "premises = [sequence_to_classify ] * len(hypothesis)\n",
    "print(hypothesis)\n",
    "print(premises)\n",
    "tokenized_input = tokenizer(premises,hypothesis,return_tensors='pt',truncation=True,max_length=512,padding=True).to('cuda')\n",
    "print(x:= tokenized_input['input_ids'][0])\n",
    "print(tokenizer.convert_ids_to_tokens(x))\n",
    "with torch.no_grad():\n",
    "    o =  model(**tokenized_input).logits\n",
    "    pass\n",
    "\n",
    "\n",
    "positive_index = 2\n",
    "print(candidate_labels[o.argmax(0)[positive_index]])\n",
    "[ (candidate_labels[i],o[i,2].detach().cpu().numpy())for i in o.argsort(0,descending=True)[:,2] ]\n",
    "\"\"\""
   ]
  },
  {
   "cell_type": "code",
   "execution_count": null,
   "metadata": {},
   "outputs": [],
   "source": [
    "#model = model.eval()\n",
    "#input_ids = tokenizer(\"create an html apply button?\", return_tensors='pt').to('cuda')[\"input_ids\"]\n",
    "#outputs = model.generate(input_ids, max_new_tokens=216)\n",
    "#tokenizer.decode(outputs[0])"
   ]
  },
  {
   "cell_type": "markdown",
   "metadata": {},
   "source": [
    "In GPT2 and Roberta tokenizers, the space before a word is part of a word, i.e. \"Hello how are you puppetter\" will be tokenized in [\"Hello\", \"Ġhow\", \"Ġare\", \"Ġyou\", \"Ġpuppet\", \"ter\"]. You can notice the spaces included in the words a Ġ here. Spaces are converted in a special character (the Ġ ) in the tokenizer prior to BPE splitting mostly to avoid digesting spaces since the standard BPE algorithm used spaces in its process (this can seem a bit hacky but was in the original GPT2 tokenizer implementation by OpenAI).\n",
    "\n",
    "You probably have noted that the first word is a bit different because it’s lacking the first space but actually the model is trained like this and reach its best performances like this, with a special first word (see https://github.com/huggingface/transformers/issues/3788 194)\n",
    "However, this behavior is a bit strange to some users because the first word is then different from the others: encoding Cats are super coolio and super coolio will not give the same tokenization (see here for instance: https://github.com/huggingface/transformers/issues/5249 122)\n",
    "transformers thus provide an add_prefix_space argument to automatically add a space at the beginning if none is provided (more intuitive tokenization but slightly lower performances though).\n",
    "The library used to have a complex mechanism to disable this when special tokens are used and control it dynamically. This mechanism was error-prone and this behavior is now simply activated or not at instantiation of the tokenizer (i.e. as an argument in from_pretrained ).\n",
    "Also note that adding prefix space is necessary when the tokenizer is used with pre-tokenized inputs ( is_pretokenized=True ) the library has a test that raise an error if you want to encode some input with add_prefix_space=False : https://github.com/huggingface/transformers/blob/master/src/transformers/tokenization_gpt2.py#L364 147"
   ]
  }
 ],
 "metadata": {
  "kernelspec": {
   "display_name": "myenv",
   "language": "python",
   "name": "python3"
  },
  "language_info": {
   "codemirror_mode": {
    "name": "ipython",
    "version": 3
   },
   "file_extension": ".py",
   "mimetype": "text/x-python",
   "name": "python",
   "nbconvert_exporter": "python",
   "pygments_lexer": "ipython3",
   "version": "3.11.2"
  }
 },
 "nbformat": 4,
 "nbformat_minor": 2
}
