{
 "cells": [
  {
   "cell_type": "code",
   "execution_count": 1,
   "metadata": {},
   "outputs": [
    {
     "name": "stdout",
     "output_type": "stream",
     "text": [
      "dict_keys(['ids', 'embeddings', 'metadatas', 'documents', 'uris', 'data', 'included'])\n"
     ]
    },
    {
     "data": {
      "text/plain": [
       "3231"
      ]
     },
     "execution_count": 1,
     "metadata": {},
     "output_type": "execute_result"
    }
   ],
   "source": [
    "import chromadb\n",
    "#https://github.com/chroma-core/chroma/blob/main/chromadb/experimental/density_relevance.ipynb\n",
    "\n",
    "client =  chromadb.PersistentClient('./chroma_docs')\n",
    "col_raw = client.get_collection('documents_raw')\n",
    "col_summary = client.get_collection('documents_summary')\n",
    "data_raw = col_raw.get()\n",
    "data = col_summary.get()\n",
    "\n",
    "print(data.keys())\n",
    "documents = data['documents']\n",
    "documents_raw = data_raw['documents']\n",
    "len(data['documents'])\n"
   ]
  },
  {
   "cell_type": "code",
   "execution_count": null,
   "metadata": {},
   "outputs": [],
   "source": []
  },
  {
   "cell_type": "code",
   "execution_count": 2,
   "metadata": {},
   "outputs": [
    {
     "name": "stderr",
     "output_type": "stream",
     "text": [
      "/proj/ciptmp/ix05ogym/myenv/lib/python3.11/site-packages/sentence_transformers/cross_encoder/CrossEncoder.py:11: TqdmExperimentalWarning: Using `tqdm.autonotebook.tqdm` in notebook mode. Use `tqdm.tqdm` instead to force console mode (e.g. in jupyter console)\n",
      "  from tqdm.autonotebook import tqdm, trange\n",
      "No ROCm runtime is found, using ROCM_HOME='/usr'\n"
     ]
    }
   ],
   "source": [
    "from sentence_transformers import SentenceTransformer\n",
    "import pandas as pd\n",
    "\n",
    "embedding = SentenceTransformer(\"all-MiniLM-L6-v2\")\n"
   ]
  },
  {
   "cell_type": "code",
   "execution_count": 16,
   "metadata": {},
   "outputs": [
    {
     "data": {
      "text/html": [
       "<div>\n",
       "<style scoped>\n",
       "    .dataframe tbody tr th:only-of-type {\n",
       "        vertical-align: middle;\n",
       "    }\n",
       "\n",
       "    .dataframe tbody tr th {\n",
       "        vertical-align: top;\n",
       "    }\n",
       "\n",
       "    .dataframe thead th {\n",
       "        text-align: right;\n",
       "    }\n",
       "</style>\n",
       "<table border=\"1\" class=\"dataframe\">\n",
       "  <thead>\n",
       "    <tr style=\"text-align: right;\">\n",
       "      <th></th>\n",
       "      <th>id</th>\n",
       "      <th>text</th>\n",
       "    </tr>\n",
       "  </thead>\n",
       "  <tbody>\n",
       "    <tr>\n",
       "      <th>0</th>\n",
       "      <td>2402.05930v1.pdf_0</td>\n",
       "      <td>4\\n\\n2024\\n\\n2\\n\\n0\\n\\n2\\n\\nb e F 8 ] L C . s ...</td>\n",
       "    </tr>\n",
       "    <tr>\n",
       "      <th>1</th>\n",
       "      <td>2402.05930v1.pdf_1</td>\n",
       "      <td>1 Introduction\\n\\nProprietary conversational a...</td>\n",
       "    </tr>\n",
       "    <tr>\n",
       "      <th>2</th>\n",
       "      <td>2402.05930v1.pdf_2</td>\n",
       "      <td>websites through a chat interface, enhancing s...</td>\n",
       "    </tr>\n",
       "    <tr>\n",
       "      <th>3</th>\n",
       "      <td>2402.05930v1.pdf_3</td>\n",
       "      <td>We examine 19 models based on 8 architectures ...</td>\n",
       "    </tr>\n",
       "    <tr>\n",
       "      <th>4</th>\n",
       "      <td>2402.05930v1.pdf_4</td>\n",
       "      <td>Figure 2: Distribution of demonstrations in WE...</td>\n",
       "    </tr>\n",
       "    <tr>\n",
       "      <th>...</th>\n",
       "      <td>...</td>\n",
       "      <td>...</td>\n",
       "    </tr>\n",
       "    <tr>\n",
       "      <th>95</th>\n",
       "      <td>2405.16506v1.pdf_table_0</td>\n",
       "      <td>Dataset # Graphs # Nodes # Edges # Tokens WebQ...</td>\n",
       "    </tr>\n",
       "    <tr>\n",
       "      <th>96</th>\n",
       "      <td>2405.16506v1.pdf_table_1</td>\n",
       "      <td>Model Φ(g) Fine-tuning F1 Score Hit@1 Recall A...</td>\n",
       "    </tr>\n",
       "    <tr>\n",
       "      <th>97</th>\n",
       "      <td>2405.16506v1.pdf_table_2</td>\n",
       "      <td>Setting Hit@1 ∆GRAG w/o Retrieval 0.6093 ↓ 16....</td>\n",
       "    </tr>\n",
       "    <tr>\n",
       "      <th>98</th>\n",
       "      <td>2405.16506v1.pdf_table_3</td>\n",
       "      <td>Model top-3 top-5 top-10 top-15 top-20 top-3 t...</td>\n",
       "    </tr>\n",
       "    <tr>\n",
       "      <th>99</th>\n",
       "      <td>2102.00151.pdf_0</td>\n",
       "      <td>1 2 0 2 n a J 0 3 ] D S . s c [\\n\\n1\\n\\n2102.0...</td>\n",
       "    </tr>\n",
       "  </tbody>\n",
       "</table>\n",
       "<p>100 rows × 2 columns</p>\n",
       "</div>"
      ],
      "text/plain": [
       "                          id  \\\n",
       "0         2402.05930v1.pdf_0   \n",
       "1         2402.05930v1.pdf_1   \n",
       "2         2402.05930v1.pdf_2   \n",
       "3         2402.05930v1.pdf_3   \n",
       "4         2402.05930v1.pdf_4   \n",
       "..                       ...   \n",
       "95  2405.16506v1.pdf_table_0   \n",
       "96  2405.16506v1.pdf_table_1   \n",
       "97  2405.16506v1.pdf_table_2   \n",
       "98  2405.16506v1.pdf_table_3   \n",
       "99          2102.00151.pdf_0   \n",
       "\n",
       "                                                 text  \n",
       "0   4\\n\\n2024\\n\\n2\\n\\n0\\n\\n2\\n\\nb e F 8 ] L C . s ...  \n",
       "1   1 Introduction\\n\\nProprietary conversational a...  \n",
       "2   websites through a chat interface, enhancing s...  \n",
       "3   We examine 19 models based on 8 architectures ...  \n",
       "4   Figure 2: Distribution of demonstrations in WE...  \n",
       "..                                                ...  \n",
       "95  Dataset # Graphs # Nodes # Edges # Tokens WebQ...  \n",
       "96  Model Φ(g) Fine-tuning F1 Score Hit@1 Recall A...  \n",
       "97  Setting Hit@1 ∆GRAG w/o Retrieval 0.6093 ↓ 16....  \n",
       "98  Model top-3 top-5 top-10 top-15 top-20 top-3 t...  \n",
       "99  1 2 0 2 n a J 0 3 ] D S . s c [\\n\\n1\\n\\n2102.0...  \n",
       "\n",
       "[100 rows x 2 columns]"
      ]
     },
     "execution_count": 16,
     "metadata": {},
     "output_type": "execute_result"
    }
   ],
   "source": [
    "test_path = '/home/cip/ce/ix05ogym/Majid/LLM/GraphRag/elec_graph/input/'\n",
    "#pd.DataFrame({\"id\":data['ids'],\"text\":data['documents']}).iloc[0:1,:].to_csv(test_path+'test.csv')\n",
    "f = pd.DataFrame({\"id\":data_raw['ids'],\"text\":data_raw['documents']}).iloc[0:100]\n",
    "f.to_csv(test_path+'scholar_raw.csv')\n",
    "f"
   ]
  },
  {
   "cell_type": "code",
   "execution_count": null,
   "metadata": {},
   "outputs": [],
   "source": [
    "from top2vec import Top2Vec\n",
    "\n",
    "t2v = Top2Vec(documents=documents,embedding_model=embedding.encode)"
   ]
  },
  {
   "cell_type": "code",
   "execution_count": null,
   "metadata": {},
   "outputs": [],
   "source": [
    "t2v_topics , score , id = t2v.get_topics()\n",
    "\n",
    "print(list(zip(t2v_topics,score)))\n"
   ]
  },
  {
   "cell_type": "code",
   "execution_count": null,
   "metadata": {},
   "outputs": [],
   "source": [
    "for i in range(5):\n",
    "    print(t2v_topics[t2v.doc_top[i]][:5])\n",
    "    print(documents[i])\n",
    "    pass\n",
    "\n",
    "for t in t2v_topics:\n",
    "    t2v_labels= '_'.join(t[:5])\n",
    "    print(t2v_labels)"
   ]
  },
  {
   "cell_type": "code",
   "execution_count": null,
   "metadata": {},
   "outputs": [],
   "source": [
    "from bertopic import BERTopic\n",
    "bt = BERTopic()\n",
    "documents_embedding = embedding.encode(documents)\n",
    "topics, probs = bt.fit_transform(documents=data['documents'],embeddings=documents_embedding)\n",
    "bt.get_topic_info()\n",
    "bt.visualize_topics()\n",
    "hierarchical_topics = bt.hierarchical_topics(data['documents'])\n",
    "bt.visualize_hierarchy(hierarchical_topics=hierarchical_topics)\n"
   ]
  },
  {
   "cell_type": "code",
   "execution_count": null,
   "metadata": {},
   "outputs": [],
   "source": [
    "bt.visualize_document_datamap(documents,topics,documents_embedding)\n"
   ]
  },
  {
   "cell_type": "code",
   "execution_count": null,
   "metadata": {},
   "outputs": [],
   "source": [
    "bt.visualize_topics()"
   ]
  },
  {
   "cell_type": "code",
   "execution_count": null,
   "metadata": {},
   "outputs": [],
   "source": [
    "import datamapplot\n",
    "from umap import UMAP\n",
    "\n",
    "umap_model = UMAP(n_neighbors=15, n_components=2, min_dist=0.15, metric='cosine').fit(documents_embedding)\n",
    "embeddings_2d = umap_model.embedding_\n",
    "\n",
    "\n",
    "\"\"\"width = 1200\n",
    "height = 1200\n",
    "figure, axes = datamapplot.create_plot(\n",
    "        embeddings_2d,\n",
    "        num\n",
    "        figsize=(width/100, height/100),\n",
    "        dpi=100,\n",
    "        title=\"title\",\n",
    "        sub_title=\"sub_title\",\n",
    "    )\"\"\"\n"
   ]
  },
  {
   "cell_type": "code",
   "execution_count": 9,
   "metadata": {},
   "outputs": [
    {
     "name": "stdout",
     "output_type": "stream",
     "text": [
      "Exctract entities, types, relationships for the following document.\n",
      "### 0:\n",
      "This text describes a new large language model (LLM) called WizardLM. WizardLM is trained on a large dataset of instructions generated by an AI system called Evol-Instruct. Evol-Instruct creates complex instructions by gradually rewriting simpler ones. The researchers found that instructions generated by Evol-Instruct are better than those created by humans. WizardLM outperforms OpenAI's ChatGPT in some tasks, demonstrating the potential of AI-evolved instructions for improving LLMs. The code and data for WizardLM are publicly available.\n",
      "\n",
      "\n"
     ]
    }
   ],
   "source": [
    "from utils import sys_msg,completion\n",
    "\n",
    "sys_msg = \"You are an expert ontology and entity designer.\"\n",
    "\n",
    "prompt =\"\"\"Exctract entities, types, relationships for the following document.\n",
    "{text}\n",
    "\"\"\"\n",
    "text = \"\"\n",
    "for i,d in enumerate(documents[:5]):\n",
    "    text += f\"\"\"### {i}:\\n{d.strip()}\\n\"\"\"\n",
    "    break\n",
    "\n",
    "prompt = prompt.format(text=text)\n",
    "print(prompt)"
   ]
  },
  {
   "cell_type": "code",
   "execution_count": 10,
   "metadata": {},
   "outputs": [
    {
     "data": {
      "text/plain": [
       "{'entities': ['WizardLM', 'LLM', 'Evol-Instruct', 'ChatGPT', 'OpenAI'],\n",
       " 'types': ['Large Language Model',\n",
       "  'AI System',\n",
       "  'AI System',\n",
       "  'Large Language Model',\n",
       "  'Company'],\n",
       " 'relationships': [{'subject': 'WizardLM',\n",
       "   'relation': 'is a',\n",
       "   'object': 'LLM'},\n",
       "  {'subject': 'WizardLM',\n",
       "   'relation': 'is trained on',\n",
       "   'object': 'instructions'},\n",
       "  {'subject': 'instructions',\n",
       "   'relation': 'generated by',\n",
       "   'object': 'Evol-Instruct'},\n",
       "  {'subject': 'Evol-Instruct', 'relation': 'is an', 'object': 'AI system'},\n",
       "  {'subject': 'Evol-Instruct',\n",
       "   'relation': 'creates',\n",
       "   'object': 'instructions'},\n",
       "  {'subject': 'instructions',\n",
       "   'relation': 'are better than',\n",
       "   'object': 'instructions created by humans'},\n",
       "  {'subject': 'WizardLM', 'relation': 'outperforms', 'object': 'ChatGPT'},\n",
       "  {'subject': 'ChatGPT', 'relation': 'is a', 'object': 'LLM'},\n",
       "  {'subject': 'ChatGPT', 'relation': 'is from', 'object': 'OpenAI'},\n",
       "  {'subject': 'WizardLM', 'relation': 'has', 'object': 'code and data'},\n",
       "  {'subject': 'code and data',\n",
       "   'relation': 'are',\n",
       "   'object': 'publicly available'}]}"
      ]
     },
     "execution_count": 10,
     "metadata": {},
     "output_type": "execute_result"
    }
   ],
   "source": [
    "completion(prompt)"
   ]
  },
  {
   "cell_type": "code",
   "execution_count": 8,
   "metadata": {},
   "outputs": [
    {
     "ename": "NameError",
     "evalue": "name 'completion' is not defined",
     "output_type": "error",
     "traceback": [
      "\u001b[0;31m---------------------------------------------------------------------------\u001b[0m",
      "\u001b[0;31mNameError\u001b[0m                                 Traceback (most recent call last)",
      "Cell \u001b[0;32mIn[8], line 3\u001b[0m\n\u001b[1;32m      1\u001b[0m \u001b[38;5;28;01mfrom\u001b[39;00m \u001b[38;5;21;01mgraphrag\u001b[39;00m\u001b[38;5;21;01m.\u001b[39;00m\u001b[38;5;21;01mindex\u001b[39;00m\u001b[38;5;21;01m.\u001b[39;00m\u001b[38;5;21;01mgraph\u001b[39;00m\u001b[38;5;21;01m.\u001b[39;00m\u001b[38;5;21;01mextractors\u001b[39;00m\u001b[38;5;21;01m.\u001b[39;00m\u001b[38;5;21;01mgraph\u001b[39;00m\u001b[38;5;21;01m.\u001b[39;00m\u001b[38;5;21;01mgraph_extractor\u001b[39;00m \u001b[38;5;28;01mimport\u001b[39;00m GraphExtractor\n\u001b[0;32m----> 3\u001b[0m e \u001b[38;5;241m=\u001b[39m GraphExtractor(\u001b[43mcompletion\u001b[49m,)\n",
      "\u001b[0;31mNameError\u001b[0m: name 'completion' is not defined"
     ]
    }
   ],
   "source": [
    "from graphrag.index.graph.extractors.graph.graph_extractor import GraphExtractor\n",
    "\n",
    "e = GraphExtractor(completion,)\n"
   ]
  },
  {
   "cell_type": "code",
   "execution_count": 5,
   "metadata": {},
   "outputs": [
    {
     "name": "stdout",
     "output_type": "stream",
     "text": [
      "\n",
      "-Goal-\n",
      "Given a text document that is potentially relevant to this activity and a list of entity types, identify all entities of those types from the text and all relationships among the identified entities.\n",
      " \n",
      "-Steps-\n",
      "1. Identify all entities. For each identified entity, extract the following information:\n",
      "- entity_name: Name of the entity, capitalized\n",
      "- entity_type: Type of the entity\n",
      "- entity_description: Comprehensive description of the entity's attributes and activities\n",
      "Format each entity as (\"entity\"<|><entity_name><|><entity_type><|><entity_description>)\n",
      " \n",
      "2. From the entities identified in step 1, identify all pairs of (source_entity, target_entity) that are *clearly related* to each other.\n",
      "For each pair of related entities, extract the following information:\n",
      "- source_entity: name of the source entity, as identified in step 1\n",
      "- target_entity: name of the target entity, as identified in step 1\n",
      "- relationship_description: explanation as to why you think the source entity and the target entity are related to each other\n",
      "- relationship_strength: a numeric score indicating strength of the relationship between the source entity and target entity\n",
      " Format each relationship as (\"relationship\"<|><source_entity><|><target_entity><|><relationship_description><|><relationship_strength>)\n",
      " \n",
      "3. Return output in English as a single list of all the entities and relationships identified in steps 1 and 2. Use **##** as the list delimiter.\n",
      " \n",
      "4. When finished, output <|COMPLETE|>\n",
      "\n",
      "-Real Data-\n",
      "######################\n",
      "Entity_types: everything\n",
      "Text: This text describes a new large language model (LLM) called WizardLM. WizardLM is trained on a large dataset of instructions generated by an AI system called Evol-Instruct. Evol-Instruct creates complex instructions by gradually rewriting simpler ones. The researchers found that instructions generated by Evol-Instruct are better than those created by humans. WizardLM outperforms OpenAI's ChatGPT in some tasks, demonstrating the potential of AI-evolved instructions for improving LLMs. The code and data for WizardLM are publicly available. \n",
      "\n",
      "######################\n",
      "Output:\n"
     ]
    }
   ],
   "source": [
    "\n",
    "#One of the following types: [{entity_types}]\n",
    "entity_prompt = \"\"\"\n",
    "-Goal-\n",
    "Given a text document that is potentially relevant to this activity and a list of entity types, identify all entities of those types from the text and all relationships among the identified entities.\n",
    " \n",
    "-Steps-\n",
    "1. Identify all entities. For each identified entity, extract the following information:\n",
    "- entity_name: Name of the entity, capitalized\n",
    "- entity_type: Type of the entity\n",
    "- entity_description: Comprehensive description of the entity's attributes and activities\n",
    "Format each entity as (\"entity\"{tuple_delimiter}<entity_name>{tuple_delimiter}<entity_type>{tuple_delimiter}<entity_description>)\n",
    " \n",
    "2. From the entities identified in step 1, identify all pairs of (source_entity, target_entity) that are *clearly related* to each other.\n",
    "For each pair of related entities, extract the following information:\n",
    "- source_entity: name of the source entity, as identified in step 1\n",
    "- target_entity: name of the target entity, as identified in step 1\n",
    "- relationship_description: explanation as to why you think the source entity and the target entity are related to each other\n",
    "- relationship_strength: a numeric score indicating strength of the relationship between the source entity and target entity\n",
    " Format each relationship as (\"relationship\"{tuple_delimiter}<source_entity>{tuple_delimiter}<target_entity>{tuple_delimiter}<relationship_description>{tuple_delimiter}<relationship_strength>)\n",
    " \n",
    "3. Return output in English as a single list of all the entities and relationships identified in steps 1 and 2. Use **{record_delimiter}** as the list delimiter.\n",
    " \n",
    "4. When finished, output {completion_delimiter}\n",
    "\n",
    "-Real Data-\n",
    "######################\n",
    "Entity_types: {entity_types}\n",
    "Text: {input_text}\n",
    "######################\n",
    "Output:\"\"\"\n",
    "\n",
    "EXAMPLE = \"\"\"######################\n",
    "-Examples-\n",
    "######################\n",
    "Example 1:\n",
    "Entity_types: ORGANIZATION,PERSON\n",
    "Text:\n",
    "The Verdantis's Central Institution is scheduled to meet on Monday and Thursday, with the institution planning to release its latest policy decision on Thursday at 1:30 p.m. PDT, followed by a press conference where Central Institution Chair Martin Smith will take questions. Investors expect the Market Strategy Committee to hold its benchmark interest rate steady in a range of 3.5%-3.75%.\n",
    "######################\n",
    "Output:\n",
    "(\"entity\"{tuple_delimiter}CENTRAL INSTITUTION{tuple_delimiter}ORGANIZATION{tuple_delimiter}The Central Institution is the Federal Reserve of Verdantis, which is setting interest rates on Monday and Thursday)\n",
    "{record_delimiter}\n",
    "(\"entity\"{tuple_delimiter}MARTIN SMITH{tuple_delimiter}PERSON{tuple_delimiter}Martin Smith is the chair of the Central Institution)\n",
    "{record_delimiter}\n",
    "(\"entity\"{tuple_delimiter}MARKET STRATEGY COMMITTEE{tuple_delimiter}ORGANIZATION{tuple_delimiter}The Central Institution committee makes key decisions about interest rates and the growth of Verdantis's money supply)\n",
    "{record_delimiter}\n",
    "(\"relationship\"{tuple_delimiter}MARTIN SMITH{tuple_delimiter}CENTRAL INSTITUTION{tuple_delimiter}Martin Smith is the Chair of the Central Institution and will answer questions at a press conference{tuple_delimiter}9)\n",
    "{completion_delimiter}\n",
    "\n",
    "######################\n",
    "Example 2:\n",
    "Entity_types: ORGANIZATION\n",
    "Text:\n",
    "TechGlobal's (TG) stock skyrocketed in its opening day on the Global Exchange Thursday. But IPO experts warn that the semiconductor corporation's debut on the public markets isn't indicative of how other newly listed companies may perform.\n",
    "\n",
    "TechGlobal, a formerly public company, was taken private by Vision Holdings in 2014. The well-established chip designer says it powers 85% of premium smartphones.\n",
    "######################\n",
    "Output:\n",
    "(\"entity\"{tuple_delimiter}TECHGLOBAL{tuple_delimiter}ORGANIZATION{tuple_delimiter}TechGlobal is a stock now listed on the Global Exchange which powers 85% of premium smartphones)\n",
    "{record_delimiter}\n",
    "(\"entity\"{tuple_delimiter}VISION HOLDINGS{tuple_delimiter}ORGANIZATION{tuple_delimiter}Vision Holdings is a firm that previously owned TechGlobal)\n",
    "{record_delimiter}\n",
    "(\"relationship\"{tuple_delimiter}TECHGLOBAL{tuple_delimiter}VISION HOLDINGS{tuple_delimiter}Vision Holdings formerly owned TechGlobal from 2014 until present{tuple_delimiter}5)\n",
    "{completion_delimiter}\n",
    "\n",
    "######################\n",
    "Example 3:\n",
    "Entity_types: ORGANIZATION,GEO,PERSON\n",
    "Text:\n",
    "Five Aurelians jailed for 8 years in Firuzabad and widely regarded as hostages are on their way home to Aurelia.\n",
    "\n",
    "The swap orchestrated by Quintara was finalized when $8bn of Firuzi funds were transferred to financial institutions in Krohaara, the capital of Quintara.\n",
    "\n",
    "The exchange initiated in Firuzabad's capital, Tiruzia, led to the four men and one woman, who are also Firuzi nationals, boarding a chartered flight to Krohaara.\n",
    "\n",
    "They were welcomed by senior Aurelian officials and are now on their way to Aurelia's capital, Cashion.\n",
    "\n",
    "The Aurelians include 39-year-old businessman Samuel Namara, who has been held in Tiruzia's Alhamia Prison, as well as journalist Durke Bataglani, 59, and environmentalist Meggie Tazbah, 53, who also holds Bratinas nationality.\n",
    "######################\n",
    "Output:\n",
    "(\"entity\"{tuple_delimiter}FIRUZABAD{tuple_delimiter}GEO{tuple_delimiter}Firuzabad held Aurelians as hostages)\n",
    "{record_delimiter}\n",
    "(\"entity\"{tuple_delimiter}AURELIA{tuple_delimiter}GEO{tuple_delimiter}Country seeking to release hostages)\n",
    "{record_delimiter}\n",
    "(\"entity\"{tuple_delimiter}QUINTARA{tuple_delimiter}GEO{tuple_delimiter}Country that negotiated a swap of money in exchange for hostages)\n",
    "{record_delimiter}\n",
    "{record_delimiter}\n",
    "(\"entity\"{tuple_delimiter}TIRUZIA{tuple_delimiter}GEO{tuple_delimiter}Capital of Firuzabad where the Aurelians were being held)\n",
    "{record_delimiter}\n",
    "(\"entity\"{tuple_delimiter}KROHAARA{tuple_delimiter}GEO{tuple_delimiter}Capital city in Quintara)\n",
    "{record_delimiter}\n",
    "(\"entity\"{tuple_delimiter}CASHION{tuple_delimiter}GEO{tuple_delimiter}Capital city in Aurelia)\n",
    "{record_delimiter}\n",
    "(\"entity\"{tuple_delimiter}SAMUEL NAMARA{tuple_delimiter}PERSON{tuple_delimiter}Aurelian who spent time in Tiruzia's Alhamia Prison)\n",
    "{record_delimiter}\n",
    "(\"entity\"{tuple_delimiter}ALHAMIA PRISON{tuple_delimiter}GEO{tuple_delimiter}Prison in Tiruzia)\n",
    "{record_delimiter}\n",
    "(\"entity\"{tuple_delimiter}DURKE BATAGLANI{tuple_delimiter}PERSON{tuple_delimiter}Aurelian journalist who was held hostage)\n",
    "{record_delimiter}\n",
    "(\"entity\"{tuple_delimiter}MEGGIE TAZBAH{tuple_delimiter}PERSON{tuple_delimiter}Bratinas national and environmentalist who was held hostage)\n",
    "{record_delimiter}\n",
    "(\"relationship\"{tuple_delimiter}FIRUZABAD{tuple_delimiter}AURELIA{tuple_delimiter}Firuzabad negotiated a hostage exchange with Aurelia{tuple_delimiter}2)\n",
    "{record_delimiter}\n",
    "(\"relationship\"{tuple_delimiter}QUINTARA{tuple_delimiter}AURELIA{tuple_delimiter}Quintara brokered the hostage exchange between Firuzabad and Aurelia{tuple_delimiter}2)\n",
    "{record_delimiter}\n",
    "(\"relationship\"{tuple_delimiter}QUINTARA{tuple_delimiter}FIRUZABAD{tuple_delimiter}Quintara brokered the hostage exchange between Firuzabad and Aurelia{tuple_delimiter}2)\n",
    "{record_delimiter}\n",
    "(\"relationship\"{tuple_delimiter}SAMUEL NAMARA{tuple_delimiter}ALHAMIA PRISON{tuple_delimiter}Samuel Namara was a prisoner at Alhamia prison{tuple_delimiter}8)\n",
    "{record_delimiter}\n",
    "(\"relationship\"{tuple_delimiter}SAMUEL NAMARA{tuple_delimiter}MEGGIE TAZBAH{tuple_delimiter}Samuel Namara and Meggie Tazbah were exchanged in the same hostage release{tuple_delimiter}2)\n",
    "{record_delimiter}\n",
    "(\"relationship\"{tuple_delimiter}SAMUEL NAMARA{tuple_delimiter}DURKE BATAGLANI{tuple_delimiter}Samuel Namara and Durke Bataglani were exchanged in the same hostage release{tuple_delimiter}2)\n",
    "{record_delimiter}\n",
    "(\"relationship\"{tuple_delimiter}MEGGIE TAZBAH{tuple_delimiter}DURKE BATAGLANI{tuple_delimiter}Meggie Tazbah and Durke Bataglani were exchanged in the same hostage release{tuple_delimiter}2)\n",
    "{record_delimiter}\n",
    "(\"relationship\"{tuple_delimiter}SAMUEL NAMARA{tuple_delimiter}FIRUZABAD{tuple_delimiter}Samuel Namara was a hostage in Firuzabad{tuple_delimiter}2)\n",
    "{record_delimiter}\n",
    "(\"relationship\"{tuple_delimiter}MEGGIE TAZBAH{tuple_delimiter}FIRUZABAD{tuple_delimiter}Meggie Tazbah was a hostage in Firuzabad{tuple_delimiter}2)\n",
    "{record_delimiter}\n",
    "(\"relationship\"{tuple_delimiter}DURKE BATAGLANI{tuple_delimiter}FIRUZABAD{tuple_delimiter}Durke Bataglani was a hostage in Firuzabad{tuple_delimiter}2)\n",
    "{completion_delimiter}\n",
    "\n",
    "###################### \n",
    "\"\"\"\n",
    "DEFAULT_TUPLE_DELIMITER = \"<|>\"\n",
    "DEFAULT_RECORD_DELIMITER = \"##\"\n",
    "DEFAULT_COMPLETION_DELIMITER = \"<|COMPLETE|>\"\n",
    "DEFAULT_ENTITY_TYPES = \"everything\" #[\"models\",\"ways\",\"casualty\"]#[\"organization\", \"person\", \"geo\", \"event\"]\n",
    "\n",
    "entity_prompt = entity_prompt.format(record_delimiter=DEFAULT_RECORD_DELIMITER,\n",
    "                     tuple_delimiter=DEFAULT_TUPLE_DELIMITER,\n",
    "                     entity_types=DEFAULT_ENTITY_TYPES,\n",
    "                     completion_delimiter = DEFAULT_COMPLETION_DELIMITER,\n",
    "                     input_text=documents[0])\n",
    "\n",
    "print(entity_prompt)\n"
   ]
  },
  {
   "cell_type": "code",
   "execution_count": 11,
   "metadata": {},
   "outputs": [
    {
     "name": "stdout",
     "output_type": "stream",
     "text": [
      "\n",
      "-Goal-\n",
      "Given a text document that is potentially relevant to this activity and a list of entity types, identify all entities of those types from the text and all relationships among the identified entities.\n",
      " \n",
      "-Steps-\n",
      "1. Identify all entities. For each identified entity, extract the following information in JSON format:\n",
      "entity:\n",
      "- entity_name: Name of the entity, capitalized\n",
      "- entity_type: Type of the entity\n",
      "- entity_description: Comprehensive description of the entity's attributes and activities\n",
      " \n",
      "2. From the entities identified in step 1, identify all pairs of (source_entity, target_entity) that are *clearly related* to each other.\n",
      "For each pair of related entities, extract the following information:\n",
      "relationship:\n",
      "- source_entity: name of the source entity, as identified in step 1\n",
      "- target_entity: name of the target entity, as identified in step 1\n",
      "- relationship_description: explanation as to why you think the source entity and the target entity are related to each other\n",
      "- relationship_strength: a numeric score indicating strength of the relationship between the source entity and target entity\n",
      " \n",
      "3. Return output in English as a single list of all the entities and relationships identified in steps 1 and 2.\n",
      " \n",
      "######################\n",
      "Entity_types: Things\n",
      "Text: This text describes a new large language model (LLM) called WizardLM. WizardLM is trained on a large dataset of instructions generated by an AI system called Evol-Instruct. Evol-Instruct creates complex instructions by gradually rewriting simpler ones. The researchers found that instructions generated by Evol-Instruct are better than those created by humans. WizardLM outperforms OpenAI's ChatGPT in some tasks, demonstrating the potential of AI-evolved instructions for improving LLMs. The code and data for WizardLM are publicly available. \n",
      "\n",
      "######################\n",
      "Output:\n"
     ]
    }
   ],
   "source": [
    "entity_prompt = \"\"\"\n",
    "-Goal-\n",
    "Given a text document that is potentially relevant to this activity and a list of entity types, identify all entities of those types from the text and all relationships among the identified entities.\n",
    " \n",
    "-Steps-\n",
    "1. Identify all entities. For each identified entity, extract the following information in JSON format:\n",
    "entity:\n",
    "- entity_name: Name of the entity, capitalized\n",
    "- entity_type: Type of the entity\n",
    "- entity_description: Comprehensive description of the entity's attributes and activities\n",
    " \n",
    "2. From the entities identified in step 1, identify all pairs of (source_entity, target_entity) that are *clearly related* to each other.\n",
    "For each pair of related entities, extract the following information:\n",
    "relationship:\n",
    "- source_entity: name of the source entity, as identified in step 1\n",
    "- target_entity: name of the target entity, as identified in step 1\n",
    "- relationship_description: explanation as to why you think the source entity and the target entity are related to each other\n",
    "- relationship_strength: a numeric score indicating strength of the relationship between the source entity and target entity\n",
    " \n",
    "3. Return output in English as a single list of all the entities and relationships identified in steps 1 and 2.\n",
    " \n",
    "######################\n",
    "Entity_types: {entity_types}\n",
    "Text: {input_text}\n",
    "######################\n",
    "Output:\"\"\"\n",
    "\n",
    "entity_prompt = entity_prompt.format(entity_types=\"Things\",input_text=documents[0])\n",
    "print(entity_prompt)\n"
   ]
  },
  {
   "cell_type": "code",
   "execution_count": 12,
   "metadata": {},
   "outputs": [
    {
     "data": {
      "text/plain": [
       "{'entities': [{'entity_name': 'WizardLM',\n",
       "   'entity_type': 'Things',\n",
       "   'entity_description': 'A new large language model (LLM) trained on a large dataset of instructions generated by Evol-Instruct. It outperforms ChatGPT in some tasks, demonstrating the potential of AI-evolved instructions for improving LLMs. The code and data for WizardLM are publicly available.'},\n",
       "  {'entity_name': 'Evol-Instruct',\n",
       "   'entity_type': 'Things',\n",
       "   'entity_description': 'An AI system that generates complex instructions by gradually rewriting simpler ones. The instructions created by Evol-Instruct are better than those created by humans.'},\n",
       "  {'entity_name': 'ChatGPT',\n",
       "   'entity_type': 'Things',\n",
       "   'entity_description': 'A large language model created by OpenAI. WizardLM outperforms ChatGPT in some tasks.'}],\n",
       " 'relationships': [{'source_entity': 'WizardLM',\n",
       "   'target_entity': 'Evol-Instruct',\n",
       "   'relationship_description': 'WizardLM is trained on a large dataset of instructions generated by Evol-Instruct.',\n",
       "   'relationship_strength': 4},\n",
       "  {'source_entity': 'Evol-Instruct',\n",
       "   'target_entity': 'WizardLM',\n",
       "   'relationship_description': 'Evol-Instruct generates instructions used to train WizardLM.',\n",
       "   'relationship_strength': 4},\n",
       "  {'source_entity': 'WizardLM',\n",
       "   'target_entity': 'ChatGPT',\n",
       "   'relationship_description': 'WizardLM outperforms ChatGPT in some tasks.',\n",
       "   'relationship_strength': 3}]}"
      ]
     },
     "execution_count": 12,
     "metadata": {},
     "output_type": "execute_result"
    }
   ],
   "source": [
    "results = completion(entity_prompt)\n",
    "results"
   ]
  },
  {
   "cell_type": "code",
   "execution_count": 38,
   "metadata": {},
   "outputs": [
    {
     "name": "stdout",
     "output_type": "stream",
     "text": [
      "Give following entities and relashionships:\n",
      "[{'source_entity': 'WizardLM', 'target_entity': 'Evol-Instruct', 'relationship_description': 'WizardLM is trained on a dataset of instructions generated by Evol-Instruct.', 'relationship_strength': 4}, {'source_entity': 'Evol-Instruct', 'target_entity': 'Instructions', 'relationship_description': 'Evol-Instruct creates complex instructions by gradually rewriting simpler ones.', 'relationship_strength': 5}, {'source_entity': 'WizardLM', 'target_entity': 'ChatGPT', 'relationship_description': \"WizardLM outperforms OpenAI's ChatGPT in some tasks.\", 'relationship_strength': 3}, {'source_entity': 'Instructions', 'target_entity': 'Humans', 'relationship_description': 'Instructions generated by Evol-Instruct are better than those created by humans.', 'relationship_strength': 4}]\n",
      "\n",
      "What entities and relationships are missing to infere all the knowledge in the following text:\n",
      "This text describes a new large language model (LLM) called WizardLM. WizardLM is trained on a large dataset of instructions generated by an AI system called Evol-Instruct. Evol-Instruct creates complex instructions by gradually rewriting simpler ones. The researchers found that instructions generated by Evol-Instruct are better than those created by humans. WizardLM outperforms OpenAI's ChatGPT in some tasks, demonstrating the potential of AI-evolved instructions for improving LLMs. The code and data for WizardLM are publicly available. \n",
      "\n",
      "\n",
      "Output format in JSON:\n",
      "'''JSON\n",
      "need_more_entities: Yes or No\n",
      "new_entities_list: a list of NEW entities\n",
      "new_relationships: in case of Yes\n",
      "\n"
     ]
    }
   ],
   "source": [
    "results['relationships']\n",
    "\n",
    "recounstract_prompt = \"\"\"Give following entities and relashionships:\n",
    "{entities}\n",
    "\n",
    "What entities and relationships are missing to infere all the knowledge in the following text:\n",
    "{orginal_document}\n",
    "\n",
    "Output format in JSON:\n",
    "'''JSON\n",
    "need_more_entities: Yes or No\n",
    "new_entities_list: a list of NEW entities\n",
    "new_relationships: in case of Yes\n",
    "\"\"\".format(entities= results['relationships'],orginal_document = documents[0])\n",
    "\n",
    "print(recounstract_prompt)"
   ]
  },
  {
   "cell_type": "code",
   "execution_count": 39,
   "metadata": {},
   "outputs": [
    {
     "data": {
      "text/plain": [
       "{'need_more_entities': 'Yes',\n",
       " 'new_entities_list': ['Large Language Model',\n",
       "  'AI System',\n",
       "  'Researchers',\n",
       "  'Code',\n",
       "  'Data',\n",
       "  'OpenAI',\n",
       "  'ChatGPT',\n",
       "  'Tasks'],\n",
       " 'new_relationships': [{'source_entity': 'WizardLM',\n",
       "   'target_entity': 'Large Language Model',\n",
       "   'relationship_description': 'WizardLM is a large language model.',\n",
       "   'relationship_strength': 5},\n",
       "  {'source_entity': 'Evol-Instruct',\n",
       "   'target_entity': 'AI System',\n",
       "   'relationship_description': 'Evol-Instruct is an AI system.',\n",
       "   'relationship_strength': 5},\n",
       "  {'source_entity': 'Researchers',\n",
       "   'target_entity': 'Evol-Instruct',\n",
       "   'relationship_description': 'Researchers developed Evol-Instruct.',\n",
       "   'relationship_strength': 4},\n",
       "  {'source_entity': 'Researchers',\n",
       "   'target_entity': 'WizardLM',\n",
       "   'relationship_description': 'Researchers developed WizardLM.',\n",
       "   'relationship_strength': 4},\n",
       "  {'source_entity': 'WizardLM',\n",
       "   'target_entity': 'Code',\n",
       "   'relationship_description': 'Code for WizardLM is publicly available.',\n",
       "   'relationship_strength': 5},\n",
       "  {'source_entity': 'WizardLM',\n",
       "   'target_entity': 'Data',\n",
       "   'relationship_description': 'Data for WizardLM is publicly available.',\n",
       "   'relationship_strength': 5},\n",
       "  {'source_entity': 'ChatGPT',\n",
       "   'target_entity': 'OpenAI',\n",
       "   'relationship_description': 'ChatGPT is developed by OpenAI.',\n",
       "   'relationship_strength': 5},\n",
       "  {'source_entity': 'WizardLM',\n",
       "   'target_entity': 'Tasks',\n",
       "   'relationship_description': 'WizardLM outperforms ChatGPT in some tasks.',\n",
       "   'relationship_strength': 4}]}"
      ]
     },
     "execution_count": 39,
     "metadata": {},
     "output_type": "execute_result"
    }
   ],
   "source": [
    "completion(recounstract_prompt)"
   ]
  },
  {
   "cell_type": "code",
   "execution_count": null,
   "metadata": {},
   "outputs": [],
   "source": [
    "from graphrag.index import run_pipeline,cre"
   ]
  }
 ],
 "metadata": {
  "kernelspec": {
   "display_name": "myenv",
   "language": "python",
   "name": "python3"
  },
  "language_info": {
   "codemirror_mode": {
    "name": "ipython",
    "version": 3
   },
   "file_extension": ".py",
   "mimetype": "text/x-python",
   "name": "python",
   "nbconvert_exporter": "python",
   "pygments_lexer": "ipython3",
   "version": "3.11.7"
  }
 },
 "nbformat": 4,
 "nbformat_minor": 2
}
