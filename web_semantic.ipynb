{
 "cells": [
  {
   "cell_type": "code",
   "execution_count": 1,
   "metadata": {},
   "outputs": [],
   "source": [
    "#https://motius.breezy.hr/p/0b622aa1163e01-join-our-tech-community-as-working-student-m-f-d/apply?utm_source=pt-linkedin&utm_medium=job-posting"
   ]
  },
  {
   "cell_type": "code",
   "execution_count": 2,
   "metadata": {},
   "outputs": [
    {
     "name": "stderr",
     "output_type": "stream",
     "text": [
      "No ROCm runtime is found, using ROCM_HOME='/usr'\n",
      "/proj/ciptmp/ix05ogym/myenv/lib/python3.11/site-packages/matplotlib/projections/__init__.py:63: UserWarning: Unable to import Axes3D. This may be due to multiple versions of Matplotlib being installed (e.g. as a system package and as a pip package). As a result, the 3D projection is not available.\n",
      "  warnings.warn(\"Unable to import Axes3D. This may be due to multiple versions of \"\n"
     ]
    },
    {
     "data": {
      "application/vnd.jupyter.widget-view+json": {
       "model_id": "17f3b1ed1f85478383980f68caff888e",
       "version_major": 2,
       "version_minor": 0
      },
      "text/plain": [
       "0it [00:00, ?it/s]"
      ]
     },
     "metadata": {},
     "output_type": "display_data"
    }
   ],
   "source": [
    "from transformers import  AutoModel,AutoTokenizer,AutoModelForMaskedLM , Trainer,TrainingArguments,\\\n",
    "BitsAndBytesConfig,pipeline,default_data_collator,DataCollatorWithPadding,DataCollatorForLanguageModeling\n",
    "from transformers.utils import move_cache\n",
    "from chat_template_utils import get_json_schema\n",
    "from llama_cpp import Llama\n",
    "from utils import *\n",
    "from peft import *\n",
    "import datasets\n",
    "import torchmetrics\n",
    "import torch\n",
    "from torch.utils.data.dataloader import DataLoader,Dataset\n",
    "from hqq.engine.hf import HQQModelForCausalLM\n",
    "from hqq.models.hf.base import AutoHQQHFModel\n",
    "from huggingface_hub import snapshot_download\n",
    "#import deepspeed\n",
    "import os\n",
    "import pandas as pd\n",
    "import json\n",
    "from var_dump import var_dump\n",
    "from bs4 import BeautifulSoup,PageElement,Comment\n",
    "import matplotlib.pyplot as plt\n",
    "import seaborn as sns\n",
    "\n",
    "cache_dir='/var/tmp/.cache/' #'/proj/ciptmp/ix05ogym/.cache/'\n",
    "output_dir = cache_dir+'outputs/'\n",
    "\n",
    "move_cache(cache_dir)\n"
   ]
  },
  {
   "cell_type": "code",
   "execution_count": 3,
   "metadata": {},
   "outputs": [
    {
     "data": {
      "text/html": [
       "<div>\n",
       "<style scoped>\n",
       "    .dataframe tbody tr th:only-of-type {\n",
       "        vertical-align: middle;\n",
       "    }\n",
       "\n",
       "    .dataframe tbody tr th {\n",
       "        vertical-align: top;\n",
       "    }\n",
       "\n",
       "    .dataframe thead th {\n",
       "        text-align: right;\n",
       "    }\n",
       "</style>\n",
       "<table border=\"1\" class=\"dataframe\">\n",
       "  <thead>\n",
       "    <tr style=\"text-align: right;\">\n",
       "      <th></th>\n",
       "      <th>form</th>\n",
       "    </tr>\n",
       "  </thead>\n",
       "  <tbody>\n",
       "    <tr>\n",
       "      <th>0</th>\n",
       "      <td>&lt;form class=\"flex w-full max-w-xl flex-col gap...</td>\n",
       "    </tr>\n",
       "    <tr>\n",
       "      <th>1</th>\n",
       "      <td>&lt;form accept-charset=\"UTF-8\" action=\"https://c...</td>\n",
       "    </tr>\n",
       "    <tr>\n",
       "      <th>2</th>\n",
       "      <td>&lt;form data-testid=\"ApplyStep1Form\" method=\"POS...</td>\n",
       "    </tr>\n",
       "    <tr>\n",
       "      <th>3</th>\n",
       "      <td>&lt;form novalidate=\"\"&gt;\\n &lt;div class=\"sc-uJiQo eq...</td>\n",
       "    </tr>\n",
       "    <tr>\n",
       "      <th>4</th>\n",
       "      <td>&lt;form class=\"elementor-form\" method=\"post\" nam...</td>\n",
       "    </tr>\n",
       "    <tr>\n",
       "      <th>...</th>\n",
       "      <td>...</td>\n",
       "    </tr>\n",
       "    <tr>\n",
       "      <th>169</th>\n",
       "      <td>&lt;form class=\"\" method=\"post\" action=\"https://c...</td>\n",
       "    </tr>\n",
       "    <tr>\n",
       "      <th>170</th>\n",
       "      <td>&lt;form id=\"careerform\" name=\"careerform\" action...</td>\n",
       "    </tr>\n",
       "    <tr>\n",
       "      <th>171</th>\n",
       "      <td>&lt;form class=\"mod-footer__newsletter-form hidde...</td>\n",
       "    </tr>\n",
       "    <tr>\n",
       "      <th>172</th>\n",
       "      <td>&lt;form class=\"form form--methods clearfix\" id=\"...</td>\n",
       "    </tr>\n",
       "    <tr>\n",
       "      <th>173</th>\n",
       "      <td>&lt;form id=\"signin_seekanz\" novalidate=\"\"&gt;&lt;div c...</td>\n",
       "    </tr>\n",
       "  </tbody>\n",
       "</table>\n",
       "<p>174 rows × 1 columns</p>\n",
       "</div>"
      ],
      "text/plain": [
       "                                                  form\n",
       "0    <form class=\"flex w-full max-w-xl flex-col gap...\n",
       "1    <form accept-charset=\"UTF-8\" action=\"https://c...\n",
       "2    <form data-testid=\"ApplyStep1Form\" method=\"POS...\n",
       "3    <form novalidate=\"\">\\n <div class=\"sc-uJiQo eq...\n",
       "4    <form class=\"elementor-form\" method=\"post\" nam...\n",
       "..                                                 ...\n",
       "169  <form class=\"\" method=\"post\" action=\"https://c...\n",
       "170  <form id=\"careerform\" name=\"careerform\" action...\n",
       "171  <form class=\"mod-footer__newsletter-form hidde...\n",
       "172  <form class=\"form form--methods clearfix\" id=\"...\n",
       "173  <form id=\"signin_seekanz\" novalidate=\"\"><div c...\n",
       "\n",
       "[174 rows x 1 columns]"
      ]
     },
     "execution_count": 3,
     "metadata": {},
     "output_type": "execute_result"
    }
   ],
   "source": [
    "data = pd.read_excel('forms.xlsx',index_col=0)\n",
    "data"
   ]
  },
  {
   "cell_type": "code",
   "execution_count": 4,
   "metadata": {},
   "outputs": [
    {
     "name": "stdout",
     "output_type": "stream",
     "text": [
      "[{'query': '', 'element': '<input aria-label=\"Search by keyword\" maxlength=\"50\" name=\"q\" placeholder=\"Search by keyword\" type=\"text\"/>'}, {'query': '', 'element': '<input aria-label=\"Search by location\" maxlength=\"50\" name=\"locationsearch\" placeholder=\"Search by location\" type=\"text\"/>'}, {'query': '', 'element': '<input type=\"submit\" value=\"Search jobs\"/>'}, {'query': '', 'element': '<a aria-controls=\"moreOptionsDiv\" aria-expanded=\"false\" data-lessoptions=\"Show Fewer Options\" data-moreoptions=\"Show more options\" data-target=\".optionsDiv\" data-toggle=\"collapse\" href=\"javascript:void(0)\" id=\"options-search\" rel=\"advance\" role=\"button\"> Show more options</a>'}, {'query': 'Loading...\\n Work area\\n ', 'element': '<select id=\"optionsFacetsDD_department\" name=\"optionsFacetsDD_department\"><option value=\"\">All </option></select>'}, {'query': 'Career status\\n ', 'element': '<select id=\"optionsFacetsDD_customfield3\" name=\"optionsFacetsDD_customfield3\"><option value=\"\">All </option></select>'}, {'query': 'Country\\n ', 'element': '<select id=\"optionsFacetsDD_country\" name=\"optionsFacetsDD_country\"><option value=\"\">All </option></select>'}]\n"
     ]
    }
   ],
   "source": [
    "def preprocess_form(form):\n",
    "    if isinstance(form,str):\n",
    "        form = BeautifulSoup(form,'html.parser')\n",
    "        \n",
    "    form:PageElement\n",
    "    comments=form.find_all(string=lambda text: isinstance(text, Comment))\n",
    "    for comment in comments:\n",
    "        comment.extract()\n",
    "    all_tags = form.find_all()\n",
    "\n",
    "    # Remove all tags except for 'link', 'input', and 'select' tags\n",
    "    i=0\n",
    "    for element in all_tags:\n",
    "        element:PageElement\n",
    "        for k in ['style','class','bounding_box_rect','is_clickable']:\n",
    "            if k in element.attrs:\n",
    "                    del element[k]\n",
    "                    pass\n",
    "           \n",
    "        if 'type' in element.attrs and element.attrs['type']=='hidden':\n",
    "            element.unwrap()\n",
    "            pass\n",
    "            \n",
    "        \n",
    "        #if element.name  in ['div','text']: \n",
    "        if element.name not in ['a', 'input', 'select','radio','button','textarea','checkbox','option']:\n",
    "            \n",
    "            element.unwrap()\n",
    "            #print(element)\n",
    "            pass\n",
    "        else:\n",
    "            #element['backend_node_id']=i\n",
    "            pass\n",
    "\n",
    "            \n",
    "                \n",
    "            i+=1\n",
    "            \n",
    "    #print(form.prettify() )\n",
    "    return form\n",
    "    \n",
    "import re\n",
    "\n",
    "def get_query_element(f):\n",
    "    query_element=[]\n",
    "    mytext  = ''\n",
    "    for element in f:\n",
    "        # Get the text before the element\n",
    "        #print('-----------------------------')\n",
    "        if element.name == None:\n",
    "            t = element.text.replace('\\n','').replace('\\t','').strip()\n",
    "            if t!='':\n",
    "                mytext+=t+'\\n '\n",
    "        else:\n",
    "            query_element.append({'query':mytext,'element': str(element).replace('\\n','').replace('  ','').strip()})\n",
    "            mytext =''\n",
    "        \n",
    "    return query_element\n",
    "\n",
    "\n",
    "def get_query_html(f):\n",
    "    f:PageElement\n",
    "    childs = f.find_all(string=True,recursive=False)\n",
    "    for c in childs:\n",
    "        print('---------------------')\n",
    "        print(c)\n",
    "    pass\n",
    "    \n",
    "    \n",
    "    \n",
    "f = preprocess_form(data['form'][11])\n",
    "\n",
    "d = get_query_element(f)\n",
    "print(d)"
   ]
  },
  {
   "cell_type": "code",
   "execution_count": 5,
   "metadata": {},
   "outputs": [
    {
     "data": {
      "text/plain": [
       "[{'query': 'cv or resume*upload your cv or resume file\\n ',\n",
       "  'element': '<input accept=\"application/msword, application/vnd.openxmlformats-officedocument.wordprocessingml.document, application/pdf, application/vnd.oasis.opendocument.text, application/rtf, text/plain, image/png, image/jpeg\" aria-describedby=\"input-candidate.cv-3-error input-candidate.cv-4\" aria-hidden=\"true\" aria-invalid=\"false\" aria-labelledby=\"input-candidate.cv-5\" autocomplete=\"off\" data-cy=\"fileinputfield\" id=\"input-candidate.cv-3\" name=\"candidate.cv\" required=\"\" tabindex=\"-1\" type=\"file\"/>'},\n",
       " {'query': 'upload a fileaccepted files: pdf, doc, docx, jpeg and png up to 50mb.my informationfill out the information belowfull name*\\n ',\n",
       "  'element': '<input aria-describedby=\"input-candidate.name-6-error\" aria-invalid=\"false\" autocomplete=\"name\" id=\"input-candidate.name-6\" maxlength=\"255\" name=\"candidate.name\" placeholder=\"full name\" required=\"\" type=\"text\"/>'},\n",
       " {'query': 'email address*\\n ',\n",
       "  'element': '<input aria-describedby=\"input-candidate.email-7-error\" aria-invalid=\"false\" autocomplete=\"email\" id=\"input-candidate.email-7\" maxlength=\"255\" name=\"candidate.email\" placeholder=\"your email address\" required=\"\" type=\"email\"/>'},\n",
       " {'query': 'phone number*\\n ',\n",
       "  'element': '<input aria-describedby=\"input-candidate.phone-8-error\" aria-invalid=\"false\" autocomplete=\"tel\" id=\"input-candidate.phone-8\" name=\"candidate.phone\" placeholder=\"your phone number\" required=\"\" type=\"tel\" value=\"+49\"/>'},\n",
       " {'query': 'photo\\n ',\n",
       "  'element': '<input accept=\"image/png, image/jpeg\" aria-describedby=\"input-candidate.photo-9-error input-candidate.photo-10\" aria-hidden=\"true\" aria-invalid=\"false\" aria-labelledby=\"input-candidate.photo-11\" autocomplete=\"off\" data-cy=\"candidate.photo\" id=\"input-candidate.photo-9\" name=\"candidate.photo\" tabindex=\"-1\" type=\"file\"/>'},\n",
       " {'query': 'upload a fileaccepted files: png, jpg and jpeg up to 20mb.cover letterupload your cover letter\\n ',\n",
       "  'element': '<input accept=\"application/msword, application/vnd.openxmlformats-officedocument.wordprocessingml.document, application/pdf, application/vnd.oasis.opendocument.text, application/rtf, text/plain, image/png, image/jpeg\" aria-describedby=\"input-candidate.coverletterfile-12-error input-candidate.coverletterfile-13\" aria-hidden=\"true\" aria-invalid=\"false\" aria-labelledby=\"input-candidate.coverletterfile-14\" autocomplete=\"off\" data-cy=\"candidate.coverletterfile\" id=\"input-candidate.coverletterfile-12\" name=\"candidate.coverletterfile\" tabindex=\"-1\" type=\"file\"/>'},\n",
       " {'query': 'upload a fileaccepted files: pdf, doc, docx, jpeg and png up to 50mb.questionsplease fill in additional questionswhere are you based in germany?*\\n ',\n",
       "  'element': '<textarea aria-describedby=\"input-candidate.openquestionanswers.4579192.content-17-error undefined\" aria-invalid=\"false\" autocomplete=\"on\" data-cy=\"textareainputfield\" id=\"input-candidate.openquestionanswers.4579192.content-17\" name=\"candidate.openquestionanswers.4579192.content\" required=\"\" rows=\"6\"></textarea>'},\n",
       " {'query': 'what are your salary expectations?\\n ',\n",
       "  'element': '<textarea aria-describedby=\"input-candidate.openquestionanswers.4579193.content-18-error undefined\" aria-invalid=\"false\" autocomplete=\"on\" data-cy=\"textareainputfield\" id=\"input-candidate.openquestionanswers.4579193.content-18\" name=\"candidate.openquestionanswers.4579193.content\" rows=\"6\"></textarea>'},\n",
       " {'query': 'are you eligible to work in germany?*\\n ',\n",
       "  'element': '<textarea aria-describedby=\"input-candidate.openquestionanswers.4579194.content-19-error undefined\" aria-invalid=\"false\" autocomplete=\"on\" data-cy=\"textareainputfield\" id=\"input-candidate.openquestionanswers.4579194.content-19\" name=\"candidate.openquestionanswers.4579194.content\" required=\"\" rows=\"6\"></textarea>'},\n",
       " {'query': 'what level is your german language proficiency level?*\\n ',\n",
       "  'element': '<textarea aria-describedby=\"input-candidate.openquestionanswers.4579195.content-20-error undefined\" aria-invalid=\"false\" autocomplete=\"on\" data-cy=\"textareainputfield\" id=\"input-candidate.openquestionanswers.4579195.content-20\" name=\"candidate.openquestionanswers.4579195.content\" required=\"\" rows=\"6\"></textarea>'},\n",
       " {'query': '*send\\n ',\n",
       "  'element': '<button aria-busy=\"false\" aria-live=\"polite\" type=\"submit\">send</button>'}]"
      ]
     },
     "execution_count": 5,
     "metadata": {},
     "output_type": "execute_result"
    }
   ],
   "source": [
    "dd = pd.read_pickle('input_text.pkl')\n",
    "dd_forms = dd.drop_duplicates(['text']).reset_index(drop=True)#['text']\n",
    "\n",
    "\n",
    "x = preprocess_form(dd_forms.loc[67,'text'])\n",
    "get_query_element(x)\n"
   ]
  },
  {
   "cell_type": "code",
   "execution_count": 113,
   "metadata": {},
   "outputs": [],
   "source": [
    "def get_df_list(data):\n",
    "    df_list = []\n",
    "    for i in range(len(data)):\n",
    "        f = data[i]#,'form']\n",
    "        f = preprocess_form(f)\n",
    "        df_list.extend(get_query_element(f))\n",
    "        #break\n",
    "    return pd.DataFrame(df_list)\n",
    "    \n",
    "    \n",
    "df_forms_1 = get_df_list(data['form'])\n",
    "df_forms_2 = get_df_list(dd_forms['text'])\n",
    "\n",
    "df_forms_1=df_forms_1.drop_duplicates(['query']).drop_duplicates(['element']).reset_index(drop=True)\n",
    "df_forms_2 = df_forms_2.drop_duplicates(['query']).drop_duplicates(['element']).reset_index(drop=True)"
   ]
  },
  {
   "cell_type": "code",
   "execution_count": 7,
   "metadata": {},
   "outputs": [
    {
     "data": {
      "text/html": [
       "<div>\n",
       "<style scoped>\n",
       "    .dataframe tbody tr th:only-of-type {\n",
       "        vertical-align: middle;\n",
       "    }\n",
       "\n",
       "    .dataframe tbody tr th {\n",
       "        vertical-align: top;\n",
       "    }\n",
       "\n",
       "    .dataframe thead th {\n",
       "        text-align: right;\n",
       "    }\n",
       "</style>\n",
       "<table border=\"1\" class=\"dataframe\">\n",
       "  <thead>\n",
       "    <tr style=\"text-align: right;\">\n",
       "      <th></th>\n",
       "      <th>input_text</th>\n",
       "      <th>labels</th>\n",
       "    </tr>\n",
       "  </thead>\n",
       "  <tbody>\n",
       "    <tr>\n",
       "      <th>0</th>\n",
       "      <td>personal informationcv or resumebrowse cv to a...</td>\n",
       "      <td>cv</td>\n",
       "    </tr>\n",
       "    <tr>\n",
       "      <th>1</th>\n",
       "      <td>&lt;input data-testid=\"textinput\" id=\"email\" requ...</td>\n",
       "      <td>email</td>\n",
       "    </tr>\n",
       "    <tr>\n",
       "      <th>2</th>\n",
       "      <td>hr profile*&lt;input class=\"fake-cv-button__input...</td>\n",
       "      <td>fake</td>\n",
       "    </tr>\n",
       "    <tr>\n",
       "      <th>3</th>\n",
       "      <td>input autocomplete=\"off\" placeholder=\"job titl...</td>\n",
       "      <td>other</td>\n",
       "    </tr>\n",
       "    <tr>\n",
       "      <th>4</th>\n",
       "      <td>-mail-address&lt;input class=\"apply-application-p...</td>\n",
       "      <td>email</td>\n",
       "    </tr>\n",
       "    <tr>\n",
       "      <th>...</th>\n",
       "      <td>...</td>\n",
       "      <td>...</td>\n",
       "    </tr>\n",
       "    <tr>\n",
       "      <th>119</th>\n",
       "      <td>on:&lt;input class=\"at-commutetime-frominput job-...</td>\n",
       "      <td>address</td>\n",
       "    </tr>\n",
       "    <tr>\n",
       "      <th>120</th>\n",
       "      <td>og in&lt;button type=\"submit\" class=\"careersite-b...</td>\n",
       "      <td>login</td>\n",
       "    </tr>\n",
       "    <tr>\n",
       "      <th>121</th>\n",
       "      <td>contact infoe-mail addresse-mail addressrequir...</td>\n",
       "      <td>phonenumber</td>\n",
       "    </tr>\n",
       "    <tr>\n",
       "      <th>122</th>\n",
       "      <td>business analyst (m/f/d)*&lt;input type=\"file\" si...</td>\n",
       "      <td>cv</td>\n",
       "    </tr>\n",
       "    <tr>\n",
       "      <th>123</th>\n",
       "      <td>input type=\"email\" name=\"email\" placeholder=\"y...</td>\n",
       "      <td>email</td>\n",
       "    </tr>\n",
       "  </tbody>\n",
       "</table>\n",
       "<p>124 rows × 2 columns</p>\n",
       "</div>"
      ],
      "text/plain": [
       "                                            input_text       labels\n",
       "0    personal informationcv or resumebrowse cv to a...           cv\n",
       "1    <input data-testid=\"textinput\" id=\"email\" requ...        email\n",
       "2    hr profile*<input class=\"fake-cv-button__input...         fake\n",
       "3    input autocomplete=\"off\" placeholder=\"job titl...        other\n",
       "4    -mail-address<input class=\"apply-application-p...        email\n",
       "..                                                 ...          ...\n",
       "119  on:<input class=\"at-commutetime-frominput job-...      address\n",
       "120  og in<button type=\"submit\" class=\"careersite-b...        login\n",
       "121  contact infoe-mail addresse-mail addressrequir...  phonenumber\n",
       "122  business analyst (m/f/d)*<input type=\"file\" si...           cv\n",
       "123  input type=\"email\" name=\"email\" placeholder=\"y...        email\n",
       "\n",
       "[124 rows x 2 columns]"
      ]
     },
     "execution_count": 7,
     "metadata": {},
     "output_type": "execute_result"
    }
   ],
   "source": [
    "dd_forms[['input_text','labels']]"
   ]
  },
  {
   "cell_type": "code",
   "execution_count": 8,
   "metadata": {},
   "outputs": [
    {
     "ename": "SyntaxError",
     "evalue": "invalid syntax (1110871626.py, line 1)",
     "output_type": "error",
     "traceback": [
      "\u001b[0;36m  Cell \u001b[0;32mIn[8], line 1\u001b[0;36m\u001b[0m\n\u001b[0;31m    embeding_model =\u001b[0m\n\u001b[0m                     ^\u001b[0m\n\u001b[0;31mSyntaxError\u001b[0m\u001b[0;31m:\u001b[0m invalid syntax\n"
     ]
    }
   ],
   "source": [
    "embeding_model = "
   ]
  },
  {
   "cell_type": "code",
   "execution_count": null,
   "metadata": {},
   "outputs": [
    {
     "name": "stdout",
     "output_type": "stream",
     "text": [
      "<input accept=\"application/pdf,.pdf\" name=\"cv\" tabindex=\"-1\" type=\"file\"/>\n",
      "<input name=\"cv\" accept=\"application/pdf,.pdf\" type=\"file\" tabindex=\"-1\" style=\"display: none;\">\n",
      "------------------------------------------\n",
      "<input autocomplete=\"email\" data-testid=\"textinput\" id=\"email\" name=\"email\" required=\"\" type=\"email\" value=\"\"/>\n",
      "<input data-testid=\"textinput\" id=\"email\" required=\"\" type=\"email\" autocomplete=\"email\" name=\"email\" class=\"sc-bsgiji jskkmm\" value=\"\">\n",
      "------------------------------------------\n",
      "<input data-testid=\"firstname\" id=\"firstname\" name=\"firstname\" required=\"\" type=\"text\" value=\"\"/>\n",
      "<input class=\"fake-cv-button__input js-cv-upload-hidden-input\" type=\"file\" name=\"cvborder:cvborder_body:cv:upload:onerowpanel:cvparser:form:cvfileinput\" id=\"idc\">\n",
      "------------------------------------------\n",
      "<input data-testid=\"lastname\" id=\"lastname\" name=\"lastname\" required=\"\" type=\"text\" value=\"\"/>\n",
      "<input autocomplete=\"off\" placeholder=\"jobtitel, stichwort oder unternehmen\" type=\"text\" aria-autocomplete=\"none\" aria-expanded=\"false\" aria-haspopup=\"listbox\" class=\"sc-65a7a46e-2 iysjqt\" role=\"combobox\" value=\"\">\n",
      "------------------------------------------\n",
      "<input accept=\".doc, .docx, .pdf, .rtf, .txt\" autocomplete=\"off\" tabindex=\"-1\" type=\"file\"/>\n",
      "<input class=\"apply-application-process-renderer-zxan8r\" data-genesis-element=\"form_input\" type=\"email\" placeholder=\"e-mail-adresse eingeben\" data-testid=\"rlac-email-input\" id=\"stepstone-form-element-31\">\n",
      "------------------------------------------\n",
      "<input accept=\".doc, .docx, .pdf, .rtf, .txt\" autocomplete=\"off\" tabindex=\"-1\" type=\"file\"/>\n",
      "<input type=\"text\" name=\"first_name\" placeholder=\"first\" class=\"form-control\" required=\"\">\n",
      "------------------------------------------\n",
      "<button type=\"submit\">apply now</button>\n",
      "<input type=\"file\" autocomplete=\"off\" tabindex=\"-1\" accept=\"application/msword, application/vnd.openxmlformats-officedocument.wordprocessingml.document, application/pdf, application/vnd.oasis.opendocument.text, application/rtf, text/plain, image/png, image/jpeg\" required=\"\" name=\"candidate.cv\" id=\"input-candidate.cv-5\" aria-describedby=\"input-candidate.cv-5-error input-candidate.cv-6\" aria-labelledby=\"input-candidate.cv-7\" aria-hidden=\"true\" aria-invalid=\"false\" data-cy=\"fileinputfield\" style=\"width:100%;overflow:hidden;position:absolute;top:0px;left:0px;opacity:0;height:100%;cursor:pointer\">\n",
      "------------------------------------------\n",
      "<input id=\"idc\" name=\"cvborder:cvborder_body:cv:upload:onerowpanel:cvparser:form:cvfileinput\" type=\"file\"/>\n",
      "<input name=\"firstname\" placeholder=\"erika\" class=\"sc-e24f7df2-0 besmsh\" value=\"\">\n",
      "------------------------------------------\n",
      "<input data-slnm=\"applicationform-input_firstnameborder\" id=\"id3\" name=\"firstnameborder:firstnameborder_body:firstname\" type=\"text\" value=\"\"/>\n",
      "<input type=\"text\" id=\"applicationform-firstname\" class=\"form-control\" name=\"applicationform[firstname]\" aria-required=\"true\">\n",
      "------------------------------------------\n",
      "<input data-slnm=\"applicationform-input_lastnameborder\" id=\"id4\" name=\"lastnameborder:lastnameborder_body:lastname\" type=\"text\" value=\"\"/>\n",
      "<input class=\"application-file-input invisible-resume-upload\" data-qa=\"input-resume\" id=\"resume-upload-input\" name=\"resume\" tabindex=\"-1\" type=\"file\">\n",
      "------------------------------------------\n"
     ]
    }
   ],
   "source": [
    "for i in range(10):\n",
    "    print(dd_forms_2['element'][i])\n",
    "    print(dd_forms['element'][i])\n",
    "    print('------------------------------------------')"
   ]
  },
  {
   "cell_type": "code",
   "execution_count": null,
   "metadata": {},
   "outputs": [
    {
     "name": "stdout",
     "output_type": "stream",
     "text": [
      "             query       element\n",
      "count  1267.000000   1267.000000\n",
      "mean     42.564325    205.612470\n",
      "std     186.832662    738.585334\n",
      "min       0.000000     16.000000\n",
      "25%       0.000000     71.000000\n",
      "50%      13.000000    107.000000\n",
      "75%      40.000000    188.500000\n",
      "max    5133.000000  13573.000000\n"
     ]
    },
    {
     "data": {
      "text/plain": [
       "array([[<Axes: title={'center': 'query'}>,\n",
       "        <Axes: title={'center': 'element'}>]], dtype=object)"
      ]
     },
     "execution_count": 7,
     "metadata": {},
     "output_type": "execute_result"
    },
    {
     "data": {
      "image/png": "[encoded data removed]",
      "text/plain": [
       "<Figure size 640x480 with 2 Axes>"
      ]
     },
     "metadata": {},
     "output_type": "display_data"
    }
   ],
   "source": [
    "df = pd.DataFrame(df_list)\n",
    "nn = df.map(lambda x:len(x))#hist(bins= 50,range=(0,200))\n",
    "print(nn.describe())\n",
    "nn.hist(bins= 50,range=(0,600))"
   ]
  },
  {
   "cell_type": "code",
   "execution_count": null,
   "metadata": {},
   "outputs": [
    {
     "data": {
      "text/plain": [
       "0     <select aria-describedby=\"help-block_country_8...\n",
       "1     <select aria-describedby=\"help-block\" aria-lab...\n",
       "2     <select id=\"aside-menu-locations\"><option data...\n",
       "3     <select data-slnm=\"applicationform-inputselect...\n",
       "4     <button aria-label='Formular \"Benachrichtigung...\n",
       "5     <select id=\"ctl00_ctl00_moteurRapideOffre_ctl0...\n",
       "6     <select id=\"ctl00_ctl00_moteurRapideOffre_ctl0...\n",
       "7     <select id=\"193761\" name=\"193761\" tabindex=\"0\"...\n",
       "8     <select id=\"9907\" name=\"9907\" tabindex=\"0\"><op...\n",
       "9     <button aria-label=\"Submit get notified for si...\n",
       "10    <select aria-invalid=\"false\" data-keyword-list...\n",
       "11    <select aria-invalid=\"false\" data-keyword-list...\n",
       "12    <select aria-invalid=\"false\" data-custom-facet...\n",
       "13    <select aria-invalid=\"false\" data-val=\"true\" d...\n",
       "14    <button id=\"button-96629df2\" onclick=\"window.h...\n",
       "15    <button id=\"id-9c089dde\" onclick=\"window.heyfl...\n",
       "16    <select name=\"section__question_6\" ng-model=\"q...\n",
       "17    <select name=\"section__question_7\" ng-model=\"q...\n",
       "18    <select id=\"optionsFacetsDD_country\" name=\"opt...\n",
       "19    <select id=\"optionsFacetsDD_city\" name=\"option...\n",
       "20    <select id=\"optionsFacetsDD_department\" name=\"...\n",
       "21    <button aria-label=\"Submit get notified for si...\n",
       "22    <select id=\"input_128560\" name=\"form_data21\" t...\n",
       "23    <select id=\"193761\" name=\"193761\" tabindex=\"0\"...\n",
       "24    <select id=\"9907\" name=\"9907\" tabindex=\"0\"><op...\n",
       "25    <select data-country-type=\"1\" id=\"9917\" name=\"...\n",
       "Name: element, dtype: object"
      ]
     },
     "execution_count": 8,
     "metadata": {},
     "output_type": "execute_result"
    }
   ],
   "source": [
    "df.loc[nn['element']>700,'element'].reset_index(drop=True)"
   ]
  },
  {
   "cell_type": "code",
   "execution_count": null,
   "metadata": {},
   "outputs": [
    {
     "ename": "SyntaxError",
     "evalue": "invalid syntax (733439656.py, line 1)",
     "output_type": "error",
     "traceback": [
      "\u001b[0;36m  Cell \u001b[0;32mIn[9], line 1\u001b[0;36m\u001b[0m\n\u001b[0;31m    $$$$\u001b[0m\n\u001b[0m    ^\u001b[0m\n\u001b[0;31mSyntaxError\u001b[0m\u001b[0;31m:\u001b[0m invalid syntax\n"
     ]
    }
   ],
   "source": [
    "$$$$"
   ]
  },
  {
   "cell_type": "code",
   "execution_count": null,
   "metadata": {},
   "outputs": [
    {
     "name": "stderr",
     "output_type": "stream",
     "text": [
      "Special tokens have been added in the vocabulary, make sure the associated word embeddings are fine-tuned or trained.\n"
     ]
    },
    {
     "name": "stdout",
     "output_type": "stream",
     "text": [
      "Qwen2Config {\n",
      "  \"_name_or_path\": \"Qwen/Qwen2-0.5B-Instruct\",\n",
      "  \"architectures\": [\n",
      "    \"Qwen2ForCausalLM\"\n",
      "  ],\n",
      "  \"attention_dropout\": 0.0,\n",
      "  \"bos_token_id\": 151643,\n",
      "  \"eos_token_id\": 151645,\n",
      "  \"hidden_act\": \"silu\",\n",
      "  \"hidden_size\": 896,\n",
      "  \"initializer_range\": 0.02,\n",
      "  \"intermediate_size\": 4864,\n",
      "  \"max_position_embeddings\": 32768,\n",
      "  \"max_window_layers\": 24,\n",
      "  \"model_type\": \"qwen2\",\n",
      "  \"num_attention_heads\": 14,\n",
      "  \"num_hidden_layers\": 24,\n",
      "  \"num_key_value_heads\": 2,\n",
      "  \"rms_norm_eps\": 1e-06,\n",
      "  \"rope_theta\": 1000000.0,\n",
      "  \"sliding_window\": 32768,\n",
      "  \"tie_word_embeddings\": true,\n",
      "  \"torch_dtype\": \"bfloat16\",\n",
      "  \"transformers_version\": \"4.41.2\",\n",
      "  \"use_cache\": true,\n",
      "  \"use_sliding_window\": false,\n",
      "  \"vocab_size\": 151936\n",
      "}\n",
      "\n"
     ]
    },
    {
     "data": {
      "text/plain": [
       "Qwen2ForCausalLM(\n",
       "  (model): Qwen2Model(\n",
       "    (embed_tokens): Embedding(151936, 896)\n",
       "    (layers): ModuleList(\n",
       "      (0-23): 24 x Qwen2DecoderLayer(\n",
       "        (self_attn): Qwen2SdpaAttention(\n",
       "          (q_proj): Linear(in_features=896, out_features=896, bias=True)\n",
       "          (k_proj): Linear(in_features=896, out_features=128, bias=True)\n",
       "          (v_proj): Linear(in_features=896, out_features=128, bias=True)\n",
       "          (o_proj): Linear(in_features=896, out_features=896, bias=False)\n",
       "          (rotary_emb): Qwen2RotaryEmbedding()\n",
       "        )\n",
       "        (mlp): Qwen2MLP(\n",
       "          (gate_proj): Linear(in_features=896, out_features=4864, bias=False)\n",
       "          (up_proj): Linear(in_features=896, out_features=4864, bias=False)\n",
       "          (down_proj): Linear(in_features=4864, out_features=896, bias=False)\n",
       "          (act_fn): SiLU()\n",
       "        )\n",
       "        (input_layernorm): Qwen2RMSNorm()\n",
       "        (post_attention_layernorm): Qwen2RMSNorm()\n",
       "      )\n",
       "    )\n",
       "    (norm): Qwen2RMSNorm()\n",
       "  )\n",
       "  (lm_head): Linear(in_features=896, out_features=151936, bias=False)\n",
       ")"
      ]
     },
     "execution_count": 9,
     "metadata": {},
     "output_type": "execute_result"
    }
   ],
   "source": [
    "from transformers import Qwen2ForCausalLM\n",
    "device = 'cuda'\n",
    "tokenizer = AutoTokenizer.from_pretrained('Qwen/Qwen2-0.5B-Instruct',cache_dir=cache_dir)\n",
    "model = Qwen2ForCausalLM.from_pretrained('Qwen/Qwen2-0.5B-Instruct'\n",
    "                                         #,attn_implementation=\"flash_attention_2\"\n",
    "                                         #,torch_dtype=torch.float16\n",
    "                                         , device_map='auto',cache_dir=cache_dir)#.to('cuda')\n",
    "\n",
    "model.eval()\n",
    "#model.config['use_sliding_window']=True\n",
    "print(model.config)\n",
    "\n",
    "model"
   ]
  },
  {
   "cell_type": "code",
   "execution_count": null,
   "metadata": {},
   "outputs": [
    {
     "data": {
      "text/plain": [
       "GenerationConfig {\n",
       "  \"bos_token_id\": 151643,\n",
       "  \"do_sample\": true,\n",
       "  \"eos_token_id\": [\n",
       "    151645,\n",
       "    151643\n",
       "  ],\n",
       "  \"pad_token_id\": 151643,\n",
       "  \"repetition_penalty\": 1.1,\n",
       "  \"temperature\": 0.7,\n",
       "  \"top_k\": 20,\n",
       "  \"top_p\": 0.8\n",
       "}"
      ]
     },
     "execution_count": 10,
     "metadata": {},
     "output_type": "execute_result"
    }
   ],
   "source": [
    "model.generation_config"
   ]
  },
  {
   "cell_type": "code",
   "execution_count": 44,
   "metadata": {},
   "outputs": [],
   "source": [
    "person = {\"first name\":\"majid\",\"last name\":\"sharghi foroushani\",\"pronoun\":\"he\",\"birth\":\"10/08/1997\",\"age\":\"27\",\"sex\":\"male\",\"skill\":\"NLP,LLM\",\"country\":\"Germany\",\"address\":\"Philip-9\",\"city\":\"Erlangen\",\"phone\":\"+497773154\",\"available_from\":\"6/24/2024\",\"salary\":\"10000\",\"German_language_level\":\"A1\",\"English_language_level\":\"C1\",\"visa\":\"do not need visa\",\"email\":\"sharghi.majid@gmail.com\",\"password\":\"123456\",\"find us\":\"Google\",\"xing\":\"www.xing.com\",\"job\":\"I am stduent\",\"university\":\"FAU\",\"major\":\"AI\"}\n",
    "person['zip']=\"91052\"\n",
    "person['custom question']=\"\""
   ]
  },
  {
   "cell_type": "code",
   "execution_count": null,
   "metadata": {},
   "outputs": [
    {
     "name": "stdout",
     "output_type": "stream",
     "text": [
      "torch.Size([1, 247])\n",
      "torch.Size([1, 354])\n",
      "<|im_start|>system\n",
      "User gives you a json use the information to answer. Answer is in json format with exactly one field. your answer should be related to user experience.<|im_end|>\n",
      "<|im_start|>user\n",
      "{\"first name\":\"majid\",\"last name\":\"sharghi foroushani\",\"pronoun\":\"he\",\"birth\":\"10/08/1997\",\"age\":27,\"sex\":\"male\",\"skill\":\"NLP,LLM\",\"country\":\"Germany\",\"address\":\"Philip-9\",\"city\":\"Erlangen\",\"phone\":\"+497773154\",\"available_from\":\"6/24/2024\",\"salary\":\"10000\",\"German_language_level\":\"A1\",\"English_language_level\":\"C1\",\"visa\":\"do not need visa\",\"email\":\"sharghi.majid@gmail.com\",\"password\":\"123456\",\"find us\":\"Google\",\"xing\":\"www.xing.com\",\"job\":\"I am stduent\",\"university\":\"FAU\",\"major\":\"AI\"}.\n",
      "Your answer has to be in short json format like {\"answer\":\"\"}.<|im_end|>\n",
      "<|im_start|>assist\n",
      "{\"answer\":\"?\"}<|im_end|>\n",
      "<|im_start|>user\n",
      "use html to create email<|im_end|>\n",
      "<|im_start|>assist\n",
      "{\"answer\":\"<html><head><title>Dear Majid Sharghi Foroushani</title></head><body><h1>Hello Majid Sharghi Foroushani,</h1><p>This is an email from Google regarding your request for a job at our company.</p><p>We are excited about the opportunity to work with you and look forward to hearing more about your background and experiences.</p><p>Best regards,</p><p>Gmail</p></body></html>\"}<|im_end|>\n"
     ]
    }
   ],
   "source": [
    "#user_content = \"\"\"what is your gender?\"\"\"\n",
    "#user_content = \"\"\"where are you living?(optional)\"\"\"\n",
    "#user_content = \"what is your salary expectation?*\"\n",
    "#user_content = \"Which pronouns should we use to address you? (optional)\"\n",
    "#user_content = \"how is your German?\"\n",
    "#user_content = \"do you need visa spunsership?\"\n",
    "#user_content = \"where are you working right now?\"\n",
    "#user_content = \"what is your birth day?\"\n",
    "#user_content = \"what are your hobbies?\"\n",
    "#user_content = \"password\"\n",
    "#user_content = \"what projects have you done?\"\n",
    "#user_content = \"are you a text ai?\"\n",
    "#user_content = \"what experice do you have in network engineering?\"\n",
    "#user_content = \"what projects have you done in deep learning?\"\n",
    "#user_content = \"how did you find us?\"\n",
    "#user_content = \"use html to create email\"\n",
    "\n",
    "\n",
    "#user_content = \"\"\"type your password\\n\"\"\"\n",
    "person = {\"first name\":\"majid\",\"last name\":\"sharghi foroushani\",\"pronoun\":\"he\",\"birth\":\"10/08/1997\",\"age\":\"27\",\"sex\":\"male\",\"skill\":\"NLP,LLM\",\"country\":\"Germany\",\"address\":\"Philip-9\",\"city\":\"Erlangen\",\"phone\":\"+497773154\",\"available_from\":\"6/24/2024\",\"salary\":\"10000\",\"German_language_level\":\"A1\",\"English_language_level\":\"C1\",\"visa\":\"do not need visa\",\"email\":\"sharghi.majid@gmail.com\",\"password\":\"123456\",\"find us\":\"Google\",\"xing\":\"www.xing.com\",\"job\":\"I am stduent\",\"university\":\"FAU\",\"major\":\"AI\"}\n",
    "system_content = str(person)+\"\"\".\\nYour answer has to be in short json format like {\"answer\":\"\"}.\"\"\"\n",
    "#system_content=\"\"\"You are majid sharghi foroushani. you are 27 years old and your skills are mainly NLP and software development. you are living in Erlangen which is a city in germany. Your German is A1 and my English is C1. your phone number is +497773154 and your salary expectation is 10000 per year and you are available to work from 6/24/2024.\"\"\"\n",
    "input = tokenizer.apply_chat_template([{\"role\":\"system\",\"content\":\"\"\"User gives you a json use the information to answer. Answer is in json format with exactly one field. your answer should be related to user experience.\"\"\"}\n",
    "                                       ,{\"role\":\"user\",\"content\":system_content}\n",
    "                                       ,{\"role\":\"assist\",\"content\":\"\"\"{\"answer\":\"?\"}\"\"\"}\n",
    "                                       ,{'role':\"user\",\"content\":user_content}],add_generation_prompt=False,return_tensors='pt').to(device)\n",
    "#input = tokenizer(user_content,return_tensors='pt').to('cuda')['input_ids']\n",
    "print(input.shape)\n",
    "with torch.no_grad():\n",
    "    out = model.generate( input,max_length=512,num_beams=1,do_sample=False)\n",
    "    \n",
    "print(out.shape)\n",
    "print(tokenizer.decode(token_ids=out[0]))"
   ]
  },
  {
   "cell_type": "code",
   "execution_count": null,
   "metadata": {},
   "outputs": [
    {
     "data": {
      "text/plain": [
       "'<|im_end|>'"
      ]
     },
     "execution_count": 551,
     "metadata": {},
     "output_type": "execute_result"
    }
   ],
   "source": [
    "tokenizer.eos_token"
   ]
  },
  {
   "cell_type": "code",
   "execution_count": 9,
   "metadata": {},
   "outputs": [
    {
     "data": {
      "text/plain": [
       "BertModel(\n",
       "  (embeddings): BertEmbeddings(\n",
       "    (word_embeddings): Embedding(30522, 384, padding_idx=0)\n",
       "    (position_embeddings): Embedding(512, 384)\n",
       "    (token_type_embeddings): Embedding(2, 384)\n",
       "    (LayerNorm): LayerNorm((384,), eps=1e-12, elementwise_affine=True)\n",
       "    (dropout): Dropout(p=0.1, inplace=False)\n",
       "  )\n",
       "  (encoder): BertEncoder(\n",
       "    (layer): ModuleList(\n",
       "      (0-11): 12 x BertLayer(\n",
       "        (attention): BertAttention(\n",
       "          (self): BertSdpaSelfAttention(\n",
       "            (query): Linear(in_features=384, out_features=384, bias=True)\n",
       "            (key): Linear(in_features=384, out_features=384, bias=True)\n",
       "            (value): Linear(in_features=384, out_features=384, bias=True)\n",
       "            (dropout): Dropout(p=0.1, inplace=False)\n",
       "          )\n",
       "          (output): BertSelfOutput(\n",
       "            (dense): Linear(in_features=384, out_features=384, bias=True)\n",
       "            (LayerNorm): LayerNorm((384,), eps=1e-12, elementwise_affine=True)\n",
       "            (dropout): Dropout(p=0.1, inplace=False)\n",
       "          )\n",
       "        )\n",
       "        (intermediate): BertIntermediate(\n",
       "          (dense): Linear(in_features=384, out_features=1536, bias=True)\n",
       "          (intermediate_act_fn): GELUActivation()\n",
       "        )\n",
       "        (output): BertOutput(\n",
       "          (dense): Linear(in_features=1536, out_features=384, bias=True)\n",
       "          (LayerNorm): LayerNorm((384,), eps=1e-12, elementwise_affine=True)\n",
       "          (dropout): Dropout(p=0.1, inplace=False)\n",
       "        )\n",
       "      )\n",
       "    )\n",
       "  )\n",
       "  (pooler): BertPooler(\n",
       "    (dense): Linear(in_features=384, out_features=384, bias=True)\n",
       "    (activation): Tanh()\n",
       "  )\n",
       ")"
      ]
     },
     "execution_count": 9,
     "metadata": {},
     "output_type": "execute_result"
    }
   ],
   "source": [
    "from sentence_transformers  import SentenceTransformer\n",
    "\n",
    "embeding_model= AutoModel.from_pretrained('sentence-transformers/all-MiniLM-L12-v2',cache_dir=cache_dir)\n",
    "embdeding_tokenizer = AutoTokenizer.from_pretrained('sentence-transformers/all-MiniLM-L12-v2',cache_dir=cache_dir)\n",
    "embeding_model.eval()\n",
    "embeding_model"
   ]
  },
  {
   "cell_type": "code",
   "execution_count": null,
   "metadata": {},
   "outputs": [
    {
     "data": {
      "text/plain": [
       "{'query': 'Personal information\\n CV or resume\\n Browse CV to autocomplete your application. You can still fill your profile manually.\\n ',\n",
       " 'element': '<input accept=\"application/pdf,.pdf\" name=\"cv\" tabindex=\"-1\" type=\"file\"/>'}"
      ]
     },
     "execution_count": 36,
     "metadata": {},
     "output_type": "execute_result"
    }
   ],
   "source": [
    "train_data = datasets.Dataset.from_pandas(df_forms_1)\n",
    "train_data[0]"
   ]
  },
  {
   "cell_type": "code",
   "execution_count": 10,
   "metadata": {},
   "outputs": [],
   "source": [
    "#Mean Pooling - Take attention mask into account for correct averaging\n",
    "def mean_pooling(model_output, attention_mask):\n",
    "    token_embeddings = model_output[0] #First element of model_output contains all token embeddings\n",
    "    input_mask_expanded = attention_mask.unsqueeze(-1).expand(token_embeddings.size()).float()\n",
    "    return torch.sum(token_embeddings * input_mask_expanded, 1) / torch.clamp(input_mask_expanded.sum(1), min=1e-9)\n"
   ]
  },
  {
   "cell_type": "code",
   "execution_count": 55,
   "metadata": {},
   "outputs": [
    {
     "data": {
      "text/plain": [
       "['apply']"
      ]
     },
     "execution_count": 55,
     "metadata": {},
     "output_type": "execute_result"
    }
   ],
   "source": [
    "KEYWORDS.pop('eligible')\n",
    "KEYWORDS.pop('apply')\n",
    "\n"
   ]
  },
  {
   "cell_type": "code",
   "execution_count": 57,
   "metadata": {},
   "outputs": [
    {
     "name": "stdout",
     "output_type": "stream",
     "text": [
      "       value           label\n",
      "50  0.353188         country\n",
      "52  0.195331  available from\n",
      "49  0.178588          search\n",
      "25  0.148569          submit\n",
      "34  0.126076         dropbox\n",
      "country [CLS] < select aria - describedby = \" help - block _ country _ 8 apply - description - country _ 8 \" aria - labelledby = \" label _ country _ 8 \" aria - required = \" false \" id = \" country _ 8 \" name = \" country \" > < option value = \" \" > - - please select - - < / option > < option value = \" country _ afghanistan \" > afghanistan < / option > < option value = \" country _ albania \" > albania < / option > < option value = \" country _ algeria \" > algeria < / option > < option value = \" country _ andorra \" > andorra < / option > < option value = \" country _ angola \" > angola < / option > < option value = \" country _ antigua \" > antigua < / option > < option value = \" country _ argentina \" > argentina < / option > < option value = \" country _ armenia \" > armenia < / option > < option value = \" country _ aruba \" > aruba < / option > < option value = \" country _ australia \" > australia < / option > < option value = \" country _ austria \" > austria < / option > < option value = \" country _ azerbaijan \" > azerbaijan < / option > < option value = \" country _ bahamas \" > bahamas < / option > < option value = \" country _ bahrain \" > bahrain < / option > < option value = \" country _ bangladesh \" > bangladesh < / option > < option value = \" country _ barbados \" > barbados < / option > < option value = \" country _ belarus \" > belarus < / option > < option value = \" country _ belgium \" > belgium < / option > < option value = \" country _ belize \" > belize < / option > < option value = \" country _ benin \" > benin < / option > < option value = \" country _ bermuda \" > bermuda < / option > < option value = \" country _ bhutan \" > bhutan < / option > < option value = \" country _ bolivia \" > bolivia < / option > < option value = \" country _ bosnia _ herzegovina \" > bosnia herzegovina < / option > < option value = \" country _ botswana \" > botswana < / option > < option value = \" country _ brazil \" > brazil < / option > < option value = \" country _ brunei _ darussalam \" > brunei darussalam < / option > < option value = \" country _ bulgaria \" > bulgaria < / option > < option [SEP]\n",
      "<select aria-describedby=\"help-block_country_8 apply-description-country_8\" aria-labelledby=\"label_country_8\" aria-required=\"false\" id=\"country_8\" name=\"country\"><option value=\"\"> --Please Select--</option><option value=\"country_afghanistan\"> Afghanistan</option><option value=\"country_albania\"> Albania</option><option value=\"country_algeria\"> Algeria</option><option value=\"country_andorra\"> Andorra</option><option value=\"country_angola\"> Angola</option><option value=\"country_antigua\"> Antigua</option><option value=\"country_argentina\"> Argentina</option><option value=\"country_armenia\"> Armenia</option><option value=\"country_aruba\"> Aruba</option><option value=\"country_australia\"> Australia</option><option value=\"country_austria\"> Austria</option><option value=\"country_azerbaijan\"> Azerbaijan</option><option value=\"country_bahamas\"> Bahamas</option><option value=\"country_bahrain\"> Bahrain</option><option value=\"country_bangladesh\"> Bangladesh</option><option value=\"country_barbados\"> Barbados</option><option value=\"country_belarus\"> Belarus</option><option value=\"country_belgium\"> Belgium</option><option value=\"country_belize\"> Belize</option><option value=\"country_benin\"> Benin</option><option value=\"country_bermuda\"> Bermuda</option><option value=\"country_bhutan\"> Bhutan</option><option value=\"country_bolivia\"> Bolivia</option><option value=\"country_bosnia_herzegovina\"> Bosnia Herzegovina</option><option value=\"country_botswana\"> Botswana</option><option value=\"country_brazil\"> Brazil</option><option value=\"country_brunei_darussalam\"> Brunei Darussalam</option><option value=\"country_bulgaria\"> Bulgaria</option><option value=\"country_burkina_faso\"> Burkina Faso</option><option value=\"country_burundi\"> Burundi</option><option value=\"country_cambodia\"> Cambodia</option><option value=\"country_cameroon\"> Cameroon</option><option value=\"country_canada\"> Canada</option><option value=\"country_cape_verde\"> Cape Verde</option><option value=\"country_cayman_islands\"> Cayman Islands</option><option value=\"country_central_african_rep\"> Central African Rep</option><option value=\"country_chad\"> Chad</option><option value=\"country_chile\"> Chile</option><option value=\"country_china\"> China Mainland</option><option value=\"country_colombia\"> Colombia</option><option value=\"country_comoros\"> Comores</option><option value=\"country_congo\"> Congo</option><option value=\"country_cook_islands\"> Cook Islands</option><option value=\"country_costa_rica\"> Costa Rica</option><option value=\"country_croatia\"> Croatia</option><option value=\"country_cuba\"> Cuba</option><option value=\"country_cyprus\"> Cyprus</option><option value=\"country_czech_republic\"> Czech Republic</option><option value=\"country_dem_rep_congo\"> Democratic Republic of the Congo</option><option value=\"country_denmark\"> Denmark</option><option value=\"country_djibouti\"> Djibouti</option><option value=\"country_dominica\"> Dominica</option><option value=\"country_dominican_republic\"> Dominican Republic</option><option value=\"country_ecuador\"> Ecuador</option><option value=\"country_egypt\"> Egypt</option><option value=\"country_el_salvador\"> El Salvador</option><option value=\"country_equatorial_guinea\"> Equatorial Guinea</option><option value=\"country_eritrea\"> Eritrea</option><option value=\"country_estonia\"> Estonia</option><option value=\"country_ethiopia\"> Ethiopia</option><option value=\"country_falkland_islands\"> Falkland Islands</option><option value=\"country_faroe_islands\"> Faroe Islands</option><option value=\"country_fiji\"> Fiji</option><option value=\"country_finland\"> Finland</option><option value=\"country_france\"> France</option><option value=\"country_frenchguiana\"> French Guiana</option><option value=\"country_frenchpolynesia\"> French Polynesia</option><option value=\"country_gabon\"> Gabon</option><option value=\"country_gambia\"> Gambia</option><option value=\"country_georgia\"> Georgia</option><option value=\"country_germany\"> Germany</option><option value=\"country_ghana\"> Ghana</option><option value=\"country_gibraltar\"> Gibraltar</option><option value=\"country_greece\"> Greece</option><option value=\"country_grenada\"> Grenada</option><option value=\"country_guam\"> Guam</option><option value=\"country_guatemala\"> Guatemala</option><option value=\"country_gg\"> Guernsey</option><option value=\"country_guinea\"> Guinea</option><option value=\"country_guinea_bissau\"> Guinea Bissau</option><option value=\"country_guyana\"> Guyana</option><option value=\"country_haiti\"> Haiti</option><option value=\"country_honduras\"> Honduras</option><option value=\"country_hong_kong\"> Hong Kong</option><option value=\"country_hungary\"> Hungary</option><option value=\"country_iceland\"> Iceland</option><option value=\"country_india\"> India</option><option value=\"country_indonesia\"> Indonesia</option><option value=\"country_iran\"> Iran</option><option value=\"country_iraq\"> Iraq</option><option value=\"country_ireland\"> Ireland</option><option value=\"country_im\"> Isle of Man</option><option value=\"country_israel\"> Israel</option><option value=\"country_italy\"> Italy</option><option value=\"country_ivory_coast\"> Ivory Coast</option><option value=\"country_jamaica\"> Jamaica</option><option value=\"country_japan\"> Japan</option><option value=\"country_jersey\"> Jersey</option><option value=\"country_jordan\"> Jordan</option><option value=\"country_kazakhstan\"> Kazakhstan</option><option value=\"country_kenya\"> Kenya</option><option value=\"country_kosovo\"> Kosovo</option><option value=\"country_kuwait\"> Kuwait</option><option value=\"country_kyrgyzstan\"> Kyrgyzstan</option><option value=\"country_laos\"> Laos</option><option value=\"country_latvia\"> Latvia</option><option value=\"country_lebanon\"> Lebanon</option><option value=\"country_lesotho\"> Lesotho</option><option value=\"country_liberia\"> Liberia</option><option value=\"country_libya\"> Libya</option><option value=\"country_liechtenstein\"> Liechtenstein</option><option value=\"country_lithuania\"> Lithuania</option><option value=\"country_luxemburg\"> Luxembourg</option><option value=\"country_macau\"> Macau</option><option value=\"country_macedonia\"> Macedonia (the former Yugoslav Republic of)</option><option value=\"country_madagascar\"> Madagascar</option><option value=\"country_malawi\"> Malawi</option><option value=\"country_malaysia\"> Malaysia</option><option value=\"country_maldives\"> Maldives</option><option value=\"country_mali\"> Mali</option><option value=\"country_malta\"> Malta</option><option value=\"country_marshall_islands\"> Marshall Islands</option><option value=\"country_mauritania\"> Mauritania</option><option value=\"country_mauritius\"> Mauritius</option><option value=\"country_mexico\"> Mexico</option><option value=\"country_micronesia\"> Micronesia</option><option value=\"country_monaco\"> Monaco</option><option value=\"country_mongolia\"> Mongolia</option><option value=\"country_montenegro\"> Montenegro</option><option value=\"country_morocco\"> Morocco</option><option value=\"country_mozambique\"> Mozambique</option><option value=\"country_myanmar__burma_\"> Myanmar (Burma)</option><option value=\"country_namibia\"> Namibia</option><option value=\"country_nauru\"> Nauru</option><option value=\"country_nepal\"> Nepal</option><option value=\"country_netherlands\"> Netherlands</option><option value=\"country_an\"> Netherlands Antilles</option><option value=\"country_new_caledonia\"> New Caledonia</option><option value=\"country_new_zealand\"> New Zealand</option><option value=\"country_nicaragua\"> Nicaragua</option><option value=\"country_niger\"> Niger</option><option value=\"country_nigeria\"> Nigeria</option><option value=\"country_north_korea\"> North Korea</option><option value=\"country_norway\"> Norway</option><option value=\"country_oman\"> Oman</option><option value=\"country_pakistan\"> Pakistan</option><option value=\"country_palau\"> Palau</option><option value=\"country_palestine\"> Palestine</option><option value=\"country_panama\"> Panama</option><option value=\"country_papua_new_guinea\"> Papua New Guinea</option><option value=\"country_paraguay\"> Paraguay</option><option value=\"country_peru\"> Peru</option><option value=\"country_philippines\"> Philippines</option><option value=\"country_poland\"> Poland</option><option value=\"country_portugal\"> Portugal</option><option value=\"country_puertorico\"> Puerto Rico</option><option value=\"country_qatar\"> Qatar</option><option value=\"country_republic_of_kiribati\"> Republic of Kiribati</option><option value=\"country_moldavia\"> Republic of Moldova</option><option value=\"country_romania\"> Romania</option><option value=\"country_russia\"> Russia</option><option value=\"country_rwanda\"> Rwanda</option><option value=\"country_sainthelena\"> Saint Helena</option><option value=\"country_saint_kitts\"> Saint Kitts</option><option value=\"country_saint_lucia\"> Saint Lucia</option><option value=\"country_saint_tome\"> Saint Tome</option><option value=\"country_saint_vincent\"> Saint Vincent</option><option value=\"country_samoa\"> Samoa</option><option value=\"country_san_marino\"> San Marino</option><option value=\"country_saudi_arabia\"> Saudi Arabia</option><option value=\"country_senegal\"> Senegal</option><option value=\"country_serbien\"> Serbia</option><option value=\"country_seychelles\"> Seychelles</option><option value=\"country_sierra_leone\"> Sierra Leone</option><option value=\"country_singapore\"> Singapore</option><option value=\"country_slovakia\"> Slovakia</option><option value=\"country_slovenia\"> Slovenia</option><option value=\"country_solomon_islands\"> Solomon Islands</option><option value=\"country_somalia\"> Somalia</option><option value=\"country_south_africa\"> South Africa</option><option value=\"country_south_korea\"> South Korea</option><option value=\"country_southsudan\"> South Sudan</option><option value=\"country_spain\"> Spain</option><option value=\"country_sri_lanka\"> Sri Lanka</option><option value=\"country_sudan\"> Sudan</option><option value=\"country_suriname\"> Suriname</option><option value=\"country_swaziland\"> Swaziland</option><option value=\"country_sweden\"> Sweden</option><option value=\"country_switzerland\"> Switzerland</option><option value=\"country_syria\"> Syria</option><option value=\"country_tadjikistan\"> Tadjikistan</option><option value=\"country_taiwan\"> Taiwan</option><option value=\"country_tanzania\"> Tanzania</option><option value=\"country_thailand\"> Thailand</option><option value=\"country_togo\"> Togo</option><option value=\"country_tonga\"> Tonga</option><option value=\"country_trinidad_tobago\"> Trinidad/Tobago</option><option value=\"country_tunisia\"> Tunisia</option><option value=\"country_turkey\"> Turkey</option><option value=\"country_turkmenistan\"> Turkmenistan</option><option value=\"country_uganda\"> Uganda</option><option value=\"country_ukraine\"> Ukraine</option><option value=\"country_united_arab_emirates\"> United Arab Emirates</option><option value=\"country_united_kingdom\"> United Kingdom</option><option value=\"country_united_states\"> United States</option><option value=\"country_uruguay\"> Uruguay</option><option value=\"country_uzbekistan\"> Uzbekistan</option><option value=\"country_vanuatu\"> Vanuatu</option><option value=\"country_vatican_city\"> Vatican City</option><option value=\"country_venezuela\"> Venezuela</option><option value=\"country_vietnam\"> Vietnam</option><option value=\"country_virgin_islands\"> Virgin Islands</option><option value=\"country_yemen\"> Yemen</option><option value=\"country_zambia\"> Zambia</option><option value=\"country_zimbabwe\"> Zimbabwe</option></select>\n"
     ]
    }
   ],
   "source": [
    "def batch_tok(example):\n",
    "\n",
    "    return embdeding_tokenizer(example,padding=True,truncation=True,max_length=512,return_tensors='pt')\n",
    "\n",
    "\n",
    "\n",
    "LABEL_INDEX_TO_KEY = list(KEYWORDS.keys())\n",
    "\n",
    "query_token = embdeding_tokenizer(df_forms_1['query'].tolist(),padding=False,truncation=True,max_length=512)\n",
    "element_token = embdeding_tokenizer(df_forms_1['element'].tolist(),padding=False,truncation=True,max_length=512)\n",
    "classes_token = embdeding_tokenizer(LABEL_INDEX_TO_KEY,padding=True,truncation=True,max_length=512,return_tensors='pt')\n",
    "\n",
    "\n",
    "def myheatmap(x):\n",
    "    map =[]\n",
    "    for i in range(len(x)):\n",
    "        sim = torch.cosine_similarity(x,x[i])\n",
    "        map.append(sim)\n",
    "    \n",
    "    \n",
    "    plt.figure(figsize=(10,10))\n",
    "    sns.heatmap(map)\n",
    "    plt.show()\n",
    "    \n",
    "    \n",
    "\n",
    "with torch.no_grad():\n",
    "    \n",
    "    output = embeding_model(**classes_token)\n",
    "    #class_embdeding = torch.mean(output.last_hidden_state,1)\n",
    "    class_embdeding = mean_pooling(output,classes_token['attention_mask'])\n",
    "    class_embdeding = torch.nn.functional.normalize(class_embdeding, p=2, dim=1)\n",
    "    #sim = torch.cosine_similarity(class_embdeding,class_embdeding[0])\n",
    "    \n",
    "    #print(sim.shape)\n",
    "    pass\n",
    "    \n",
    "i = 151\n",
    "with torch.no_grad():\n",
    "    x = torch.tensor(element_token['input_ids'][i:i+1])\n",
    "    #print(x)\n",
    "    output = embeding_model(input_ids= x)\n",
    "    #query_embdeding = torch.mean(output.last_hidden_state,1)\n",
    "    query_embdeding = mean_pooling(output,torch.tensor(element_token['attention_mask'][i:i+1]))\n",
    "    #query_embdeding = torch.nn.functional.normalize(class_embdeding, p=2, dim=1)\n",
    "    \n",
    "    sim = torch.cosine_similarity(class_embdeding,query_embdeding)\n",
    "    print(pd.DataFrame({'value':sim,'label':LABEL_INDEX_TO_KEY}).sort_values('value',ascending=False)[:5])\n",
    "    print(LABEL_INDEX_TO_KEY[ sim.argmax() ], embdeding_tokenizer.decode(token_ids=x[0]))\n",
    "    print(df_forms_1['element'][i] )\n",
    "    \n",
    "\n",
    "#myheatmap(class_embdeding)\n"
   ]
  },
  {
   "cell_type": "code",
   "execution_count": 58,
   "metadata": {},
   "outputs": [],
   "source": [
    "KEYWORDS={\n",
    "        #----------------------form--------------------------------------\n",
    "       'first name':['firstname','first_name','forename','first','first-name'],\n",
    "       'last name':['lastname','last_name','surename','last','last-name'] ,\n",
    "       'email':['email','e-mail','username','user_name','user-name','type=\"email\"'], \n",
    "       'password':['password'], \n",
    "       'cv':['cv','resume','curriculum','vitae'],\n",
    "       'birth date':['birthdate','birth','dateofbirth','date-of-birth','birth-date'],\n",
    "       'phone number':['phonenumber','phone','telephone','tel'],\n",
    "       'house number':['hausnummer'],\n",
    "       'resident country':['resident','country'],\n",
    "       'citizen country':['citizen','citizenship','city'],\n",
    "       'transcript':['transcript'],\n",
    "       'cover letter':['coverletter','cover', 'letter'], \n",
    "       'picture':['picture'], \n",
    "       'address':['address','location'],\n",
    "       'linkedin':['linkedin'],\n",
    "       'github':['github'],\n",
    "       'xing':['xing'],\n",
    "       'twitter':['twitter'],\n",
    "       'website':['website'],\n",
    "       'zip':['postalcode','zip','zip-code','postal'],\n",
    "       'city':['city'],\n",
    "       'salary':['salary'],\n",
    "       'sex':['sex','gender'], \n",
    "       'available from':['noticeprieod'],\n",
    "       #'file':['type=\"file\"'],\n",
    "       \n",
    "       'captcha':['captcha'],\n",
    "       'submit':['apply','type=\"submit\"'],\n",
    "       'cancel':['cancel'],\n",
    "       'fake':['fake'],\n",
    "       'custom question':['question'],\n",
    "       'privacy':['agree'],\n",
    "\n",
    "       'recommend':['recommendation'],\n",
    "       'work here before':['workherebefore'],\n",
    "       'find us':['find'],\n",
    "       'dropbox':['dropbox'],\n",
    "       'google drive':['google drive'],\n",
    "       'work hours':['workhours'],\n",
    "       'workduration':[''],\n",
    "       'visa':['visa'],\n",
    "       #'eligible':['eligible'],\n",
    "       'german language level':['germanlevel'],\n",
    "       'company':[''],#current company\n",
    "       'willing to relocate':[''],\n",
    "       'university enrollment':[],#are a student?\n",
    "       'english language level':[],\n",
    "       #important about job\n",
    "       #important about jobplace?\n",
    "              \n",
    "       #-------------------------------------------------------------------\n",
    "       #-----------------------------------btns ---------------------------\n",
    "       'login':['login','sign'],\n",
    "       'username':['username'],\n",
    "       'register':['register','sign'],\n",
    "       'cookie':['cookie'],\n",
    "       'next':['apply now','next'],\n",
    "       'search':[],\n",
    "        'other':['other'],\n",
    "        'newsletter':[]\n",
    "       #'apply':['apply'],\n",
    "       #-------------------------------------------------------------------\n",
    "\n",
    "       }\n",
    "\n",
    "LABEL_INDEX_TO_KEY = [KEYWORDS.keys()]"
   ]
  },
  {
   "cell_type": "code",
   "execution_count": 121,
   "metadata": {},
   "outputs": [],
   "source": []
  },
  {
   "cell_type": "code",
   "execution_count": 195,
   "metadata": {},
   "outputs": [
    {
     "name": "stdout",
     "output_type": "stream",
     "text": [
      "Available from *\n",
      " \n",
      "<input name=\"available_from\" placeholder=\"\" required=\"\" type=\"text\"/>\n",
      "5\n",
      "-------------------------------------------------------------\n"
     ]
    },
    {
     "data": {
      "text/html": [
       "<div>\n",
       "<style scoped>\n",
       "    .dataframe tbody tr th:only-of-type {\n",
       "        vertical-align: middle;\n",
       "    }\n",
       "\n",
       "    .dataframe tbody tr th {\n",
       "        vertical-align: top;\n",
       "    }\n",
       "\n",
       "    .dataframe thead th {\n",
       "        text-align: right;\n",
       "    }\n",
       "</style>\n",
       "<table border=\"1\" class=\"dataframe\">\n",
       "  <thead>\n",
       "    <tr style=\"text-align: right;\">\n",
       "      <th></th>\n",
       "      <th>query</th>\n",
       "      <th>element</th>\n",
       "      <th>label</th>\n",
       "    </tr>\n",
       "  </thead>\n",
       "  <tbody>\n",
       "    <tr>\n",
       "      <th>5</th>\n",
       "      <td>Available from *\\n</td>\n",
       "      <td>&lt;input name=\"available_from\" placeholder=\"\" re...</td>\n",
       "      <td>NaN</td>\n",
       "    </tr>\n",
       "  </tbody>\n",
       "</table>\n",
       "</div>"
      ],
      "text/plain": [
       "                 query                                            element  \\\n",
       "5  Available from *\\n   <input name=\"available_from\" placeholder=\"\" re...   \n",
       "\n",
       "  label  \n",
       "5   NaN  "
      ]
     },
     "execution_count": 195,
     "metadata": {},
     "output_type": "execute_result"
    }
   ],
   "source": [
    "k = 'name=\"available_from\"'\n",
    "d = 'available from'\n",
    "c1 = df_forms_1['query'].str.contains(k, case=False, na=False)\n",
    "c2 = df_forms_1['element'].str.contains(k, case=False, na=False)\n",
    "c = df_forms_1[c2]#.reset_index(drop=True)\n",
    "\n",
    "for i,x in c.iterrows():\n",
    "    print(x['query'])\n",
    "    print(x['element'])\n",
    "    #if  pd.isna(df_forms_1.loc[i,'label']):\n",
    "    df_forms_1.loc[i,'label']= d#pd.NA\n",
    "    print(i)\n",
    "    print('-------------------------------------------------------------')\n",
    "    \n",
    "c"
   ]
  },
  {
   "cell_type": "code",
   "execution_count": 197,
   "metadata": {},
   "outputs": [
    {
     "data": {
      "text/html": [
       "<div>\n",
       "<style scoped>\n",
       "    .dataframe tbody tr th:only-of-type {\n",
       "        vertical-align: middle;\n",
       "    }\n",
       "\n",
       "    .dataframe tbody tr th {\n",
       "        vertical-align: top;\n",
       "    }\n",
       "\n",
       "    .dataframe thead th {\n",
       "        text-align: right;\n",
       "    }\n",
       "</style>\n",
       "<table border=\"1\" class=\"dataframe\">\n",
       "  <thead>\n",
       "    <tr style=\"text-align: right;\">\n",
       "      <th></th>\n",
       "      <th>query</th>\n",
       "      <th>element</th>\n",
       "      <th>label</th>\n",
       "    </tr>\n",
       "  </thead>\n",
       "  <tbody>\n",
       "    <tr>\n",
       "      <th>0</th>\n",
       "      <td>Personal information\\n CV or resume\\n Browse C...</td>\n",
       "      <td>&lt;input accept=\"application/pdf,.pdf\" name=\"cv\"...</td>\n",
       "      <td>cv</td>\n",
       "    </tr>\n",
       "    <tr>\n",
       "      <th>1</th>\n",
       "      <td>Name *\\n</td>\n",
       "      <td>&lt;input name=\"first_name\" placeholder=\"First\" r...</td>\n",
       "      <td>first name</td>\n",
       "    </tr>\n",
       "    <tr>\n",
       "      <th>2</th>\n",
       "      <td>This field contains invalid characters\\n</td>\n",
       "      <td>&lt;input name=\"last_name\" placeholder=\"Last\" req...</td>\n",
       "      <td>last name</td>\n",
       "    </tr>\n",
       "    <tr>\n",
       "      <th>3</th>\n",
       "      <td>This field contains invalid characters\\n Email...</td>\n",
       "      <td>&lt;input name=\"email\" placeholder=\"yourmail@doma...</td>\n",
       "      <td>email</td>\n",
       "    </tr>\n",
       "    <tr>\n",
       "      <th>4</th>\n",
       "      <td>Phone\\n</td>\n",
       "      <td>&lt;input name=\"phone\" placeholder=\"+49 176 123 4...</td>\n",
       "      <td>phone</td>\n",
       "    </tr>\n",
       "    <tr>\n",
       "      <th>...</th>\n",
       "      <td>...</td>\n",
       "      <td>...</td>\n",
       "      <td>...</td>\n",
       "    </tr>\n",
       "    <tr>\n",
       "      <th>419</th>\n",
       "      <td>cover letter\\n upload your cover letter\\n</td>\n",
       "      <td>&lt;input accept=\"application/msword, application...</td>\n",
       "      <td>cover letter</td>\n",
       "    </tr>\n",
       "    <tr>\n",
       "      <th>434</th>\n",
       "      <td>github\\n</td>\n",
       "      <td>&lt;input name=\"custom_attribute_356304\" placehol...</td>\n",
       "      <td>guthub</td>\n",
       "    </tr>\n",
       "    <tr>\n",
       "      <th>436</th>\n",
       "      <td>ihre e-mail-adresse\\n</td>\n",
       "      <td>&lt;button aria-label=\"subscribe for newsletter\" ...</td>\n",
       "      <td>submit</td>\n",
       "    </tr>\n",
       "    <tr>\n",
       "      <th>438</th>\n",
       "      <td>(!)\\n this field is required\\n</td>\n",
       "      <td>&lt;button id=\"uploaddropboxresume\" type=\"submit\"...</td>\n",
       "      <td>submit</td>\n",
       "    </tr>\n",
       "    <tr>\n",
       "      <th>439</th>\n",
       "      <td>this field is required\\n from device\\n *\\n</td>\n",
       "      <td>&lt;input accept=\".pdf,.doc,.docx,.txt\" aria-requ...</td>\n",
       "      <td>cv</td>\n",
       "    </tr>\n",
       "  </tbody>\n",
       "</table>\n",
       "<p>100 rows × 3 columns</p>\n",
       "</div>"
      ],
      "text/plain": [
       "                                                 query  \\\n",
       "0    Personal information\\n CV or resume\\n Browse C...   \n",
       "1                                            Name *\\n    \n",
       "2            This field contains invalid characters\\n    \n",
       "3    This field contains invalid characters\\n Email...   \n",
       "4                                             Phone\\n    \n",
       "..                                                 ...   \n",
       "419         cover letter\\n upload your cover letter\\n    \n",
       "434                                          github\\n    \n",
       "436                             ihre e-mail-adresse\\n    \n",
       "438                    (!)\\n this field is required\\n    \n",
       "439        this field is required\\n from device\\n *\\n    \n",
       "\n",
       "                                               element         label  \n",
       "0    <input accept=\"application/pdf,.pdf\" name=\"cv\"...            cv  \n",
       "1    <input name=\"first_name\" placeholder=\"First\" r...    first name  \n",
       "2    <input name=\"last_name\" placeholder=\"Last\" req...     last name  \n",
       "3    <input name=\"email\" placeholder=\"yourmail@doma...         email  \n",
       "4    <input name=\"phone\" placeholder=\"+49 176 123 4...         phone  \n",
       "..                                                 ...           ...  \n",
       "419  <input accept=\"application/msword, application...  cover letter  \n",
       "434  <input name=\"custom_attribute_356304\" placehol...        guthub  \n",
       "436  <button aria-label=\"subscribe for newsletter\" ...        submit  \n",
       "438  <button id=\"uploaddropboxresume\" type=\"submit\"...        submit  \n",
       "439  <input accept=\".pdf,.doc,.docx,.txt\" aria-requ...            cv  \n",
       "\n",
       "[100 rows x 3 columns]"
      ]
     },
     "execution_count": 197,
     "metadata": {},
     "output_type": "execute_result"
    }
   ],
   "source": [
    "\n",
    "\n",
    "df_forms_1[df_forms_1['label'].notna()]\n",
    "\n"
   ]
  },
  {
   "cell_type": "code",
   "execution_count": 182,
   "metadata": {},
   "outputs": [
    {
     "data": {
      "text/html": [
       "<div>\n",
       "<style scoped>\n",
       "    .dataframe tbody tr th:only-of-type {\n",
       "        vertical-align: middle;\n",
       "    }\n",
       "\n",
       "    .dataframe tbody tr th {\n",
       "        vertical-align: top;\n",
       "    }\n",
       "\n",
       "    .dataframe thead th {\n",
       "        text-align: right;\n",
       "    }\n",
       "</style>\n",
       "<table border=\"1\" class=\"dataframe\">\n",
       "  <thead>\n",
       "    <tr style=\"text-align: right;\">\n",
       "      <th></th>\n",
       "      <th>text</th>\n",
       "      <th>element</th>\n",
       "      <th>label</th>\n",
       "      <th>input_text</th>\n",
       "      <th>labels</th>\n",
       "    </tr>\n",
       "  </thead>\n",
       "  <tbody>\n",
       "    <tr>\n",
       "      <th>0</th>\n",
       "      <td>personal informationcv or resumebrowse cv to a...</td>\n",
       "      <td>&lt;input name=\"cv\" accept=\"application/pdf,.pdf\"...</td>\n",
       "      <td>cv</td>\n",
       "      <td>personal informationcv or resumebrowse cv to a...</td>\n",
       "      <td>cv</td>\n",
       "    </tr>\n",
       "    <tr>\n",
       "      <th>1</th>\n",
       "      <td>*&lt;input data-testid=\"textinput\" id=\"email\" req...</td>\n",
       "      <td>&lt;input data-testid=\"textinput\" id=\"email\" requ...</td>\n",
       "      <td>email</td>\n",
       "      <td>&lt;input data-testid=\"textinput\" id=\"email\" requ...</td>\n",
       "      <td>email</td>\n",
       "    </tr>\n",
       "    <tr>\n",
       "      <th>2</th>\n",
       "      <td>ihr profil*&lt;input class=\"fake-cv-button__input...</td>\n",
       "      <td>&lt;input class=\"fake-cv-button__input js-cv-uplo...</td>\n",
       "      <td>cv</td>\n",
       "      <td>hr profile*&lt;input class=\"fake-cv-button__input...</td>\n",
       "      <td>fake</td>\n",
       "    </tr>\n",
       "    <tr>\n",
       "      <th>3</th>\n",
       "      <td>&lt;input autocomplete=\"off\" placeholder=\"jobtite...</td>\n",
       "      <td>&lt;input autocomplete=\"off\" placeholder=\"jobtite...</td>\n",
       "      <td>phonenumber</td>\n",
       "      <td>input autocomplete=\"off\" placeholder=\"job titl...</td>\n",
       "      <td>other</td>\n",
       "    </tr>\n",
       "    <tr>\n",
       "      <th>4</th>\n",
       "      <td>e-mail-adresse&lt;input class=\"apply-application-...</td>\n",
       "      <td>&lt;input class=\"apply-application-process-render...</td>\n",
       "      <td>email</td>\n",
       "      <td>-mail-address&lt;input class=\"apply-application-p...</td>\n",
       "      <td>email</td>\n",
       "    </tr>\n",
       "    <tr>\n",
       "      <th>...</th>\n",
       "      <td>...</td>\n",
       "      <td>...</td>\n",
       "      <td>...</td>\n",
       "      <td>...</td>\n",
       "      <td>...</td>\n",
       "    </tr>\n",
       "    <tr>\n",
       "      <th>119</th>\n",
       "      <td>von:&lt;input class=\"at-commutetime-frominput job...</td>\n",
       "      <td>&lt;input class=\"at-commutetime-frominput job-ad-...</td>\n",
       "      <td>firstname</td>\n",
       "      <td>on:&lt;input class=\"at-commutetime-frominput job-...</td>\n",
       "      <td>address</td>\n",
       "    </tr>\n",
       "    <tr>\n",
       "      <th>120</th>\n",
       "      <td>log in&lt;button type=\"submit\" class=\"careersite-...</td>\n",
       "      <td>&lt;button type=\"submit\" class=\"careersite-button...</td>\n",
       "      <td>apply</td>\n",
       "      <td>og in&lt;button type=\"submit\" class=\"careersite-b...</td>\n",
       "      <td>login</td>\n",
       "    </tr>\n",
       "    <tr>\n",
       "      <th>121</th>\n",
       "      <td>kontaktinfoe-mail-adressee-mail-adresserequire...</td>\n",
       "      <td>&lt;input class=\" artdeco-text-input--input\" id=\"...</td>\n",
       "      <td>phonenumber</td>\n",
       "      <td>contact infoe-mail addresse-mail addressrequir...</td>\n",
       "      <td>phonenumber</td>\n",
       "    </tr>\n",
       "    <tr>\n",
       "      <th>122</th>\n",
       "      <td>business analyst (m/w/d)*&lt;input type=\"file\" si...</td>\n",
       "      <td>&lt;input type=\"file\" size=\"20\" aria-labelledby=\"...</td>\n",
       "      <td>cv</td>\n",
       "      <td>business analyst (m/f/d)*&lt;input type=\"file\" si...</td>\n",
       "      <td>cv</td>\n",
       "    </tr>\n",
       "    <tr>\n",
       "      <th>123</th>\n",
       "      <td>&lt;input type=\"email\" name=\"email\" placeholder=\"...</td>\n",
       "      <td>&lt;input type=\"email\" name=\"email\" placeholder=\"...</td>\n",
       "      <td>email</td>\n",
       "      <td>input type=\"email\" name=\"email\" placeholder=\"y...</td>\n",
       "      <td>email</td>\n",
       "    </tr>\n",
       "  </tbody>\n",
       "</table>\n",
       "<p>124 rows × 5 columns</p>\n",
       "</div>"
      ],
      "text/plain": [
       "                                                  text  \\\n",
       "0    personal informationcv or resumebrowse cv to a...   \n",
       "1    *<input data-testid=\"textinput\" id=\"email\" req...   \n",
       "2    ihr profil*<input class=\"fake-cv-button__input...   \n",
       "3    <input autocomplete=\"off\" placeholder=\"jobtite...   \n",
       "4    e-mail-adresse<input class=\"apply-application-...   \n",
       "..                                                 ...   \n",
       "119  von:<input class=\"at-commutetime-frominput job...   \n",
       "120  log in<button type=\"submit\" class=\"careersite-...   \n",
       "121  kontaktinfoe-mail-adressee-mail-adresserequire...   \n",
       "122  business analyst (m/w/d)*<input type=\"file\" si...   \n",
       "123  <input type=\"email\" name=\"email\" placeholder=\"...   \n",
       "\n",
       "                                               element        label  \\\n",
       "0    <input name=\"cv\" accept=\"application/pdf,.pdf\"...           cv   \n",
       "1    <input data-testid=\"textinput\" id=\"email\" requ...        email   \n",
       "2    <input class=\"fake-cv-button__input js-cv-uplo...           cv   \n",
       "3    <input autocomplete=\"off\" placeholder=\"jobtite...  phonenumber   \n",
       "4    <input class=\"apply-application-process-render...        email   \n",
       "..                                                 ...          ...   \n",
       "119  <input class=\"at-commutetime-frominput job-ad-...    firstname   \n",
       "120  <button type=\"submit\" class=\"careersite-button...        apply   \n",
       "121  <input class=\" artdeco-text-input--input\" id=\"...  phonenumber   \n",
       "122  <input type=\"file\" size=\"20\" aria-labelledby=\"...           cv   \n",
       "123  <input type=\"email\" name=\"email\" placeholder=\"...        email   \n",
       "\n",
       "                                            input_text       labels  \n",
       "0    personal informationcv or resumebrowse cv to a...           cv  \n",
       "1    <input data-testid=\"textinput\" id=\"email\" requ...        email  \n",
       "2    hr profile*<input class=\"fake-cv-button__input...         fake  \n",
       "3    input autocomplete=\"off\" placeholder=\"job titl...        other  \n",
       "4    -mail-address<input class=\"apply-application-p...        email  \n",
       "..                                                 ...          ...  \n",
       "119  on:<input class=\"at-commutetime-frominput job-...      address  \n",
       "120  og in<button type=\"submit\" class=\"careersite-b...        login  \n",
       "121  contact infoe-mail addresse-mail addressrequir...  phonenumber  \n",
       "122  business analyst (m/f/d)*<input type=\"file\" si...           cv  \n",
       "123  input type=\"email\" name=\"email\" placeholder=\"y...        email  \n",
       "\n",
       "[124 rows x 5 columns]"
      ]
     },
     "execution_count": 182,
     "metadata": {},
     "output_type": "execute_result"
    }
   ],
   "source": [
    "dd_forms"
   ]
  },
  {
   "cell_type": "code",
   "execution_count": 198,
   "metadata": {},
   "outputs": [],
   "source": [
    "df_forms_1.loc[436,'label']='newsletter'#'submit'"
   ]
  },
  {
   "cell_type": "code",
   "execution_count": 199,
   "metadata": {},
   "outputs": [],
   "source": [
    "df_forms_1.to_excel('forms.xlsx',index=0)"
   ]
  }
 ],
 "metadata": {
  "kernelspec": {
   "display_name": "myenv",
   "language": "python",
   "name": "python3"
  },
  "language_info": {
   "codemirror_mode": {
    "name": "ipython",
    "version": 3
   },
   "file_extension": ".py",
   "mimetype": "text/x-python",
   "name": "python",
   "nbconvert_exporter": "python",
   "pygments_lexer": "ipython3",
   "version": "3.11.2"
  }
 },
 "nbformat": 4,
 "nbformat_minor": 2
}
