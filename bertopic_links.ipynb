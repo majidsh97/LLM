{
 "cells": [
  {
   "cell_type": "code",
   "execution_count": null,
   "metadata": {},
   "outputs": [],
   "source": [
    "from langchain_community.retrievers import BM25Retriever\n",
    "meta = [{'id':i}for i in d.index]\n",
    "retriver = BM25Retriever.from_texts(d['query'].tolist(),meta)\n",
    "retriver.k=10\n",
    "retriver.invoke('sign')"
   ]
  },
  {
   "cell_type": "code",
   "execution_count": null,
   "metadata": {},
   "outputs": [],
   "source": [
    "from bertopic import BERTopic\n",
    "bt = BERTopic()\n",
    "topics, probs = bt.fit_transform(documents=d['query'])\n",
    "pd_full_screen()\n",
    "bt.get_topic_info()\n",
    "bt.visualize_topics()\n",
    "hierarchical_topics = bt.hierarchical_topics(d['query'])\n",
    "bt.visualize_hierarchy(hierarchical_topics=hierarchical_topics)\n",
    "\n"
   ]
  }
 ],
 "metadata": {
  "language_info": {
   "name": "python"
  }
 },
 "nbformat": 4,
 "nbformat_minor": 2
}
