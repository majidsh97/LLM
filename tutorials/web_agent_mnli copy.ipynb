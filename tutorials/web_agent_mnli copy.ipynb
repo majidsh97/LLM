{
 "cells": [
  {
   "cell_type": "code",
   "execution_count": 1,
   "metadata": {},
   "outputs": [
    {
     "name": "stderr",
     "output_type": "stream",
     "text": [
      "/proj/ciptmp/ix05ogym/myenv/lib/python3.11/site-packages/tqdm/auto.py:21: TqdmWarning: IProgress not found. Please update jupyter and ipywidgets. See https://ipywidgets.readthedocs.io/en/stable/user_install.html\n",
      "  from .autonotebook import tqdm as notebook_tqdm\n",
      "No ROCm runtime is found, using ROCM_HOME='/usr'\n"
     ]
    }
   ],
   "source": [
    "from transformers import AutoModelForSequenceClassification,AutoTokenizer,AutoModelForMaskedLM , Trainer,TrainingArguments,BitsAndBytesConfig,pipeline,default_data_collator\n",
    "from peft import get_peft_model,LoraConfig\n",
    "import datasets\n",
    "import torchmetrics\n",
    "import torch\n",
    "from hqq.engine.hf import HQQModelForCausalLM\n",
    "from hqq.models.hf.base import AutoHQQHFModel\n",
    "from huggingface_hub import snapshot_download\n",
    "#import deepspeed\n",
    "import os\n",
    "import pandas as pd\n",
    "import json\n",
    "from var_dump import var_dump\n",
    "from bs4 import BeautifulSoup\n",
    "\n",
    "cache_dir='/proj/ciptmp/ix05ogym/.cache/'\n",
    "output_dir = cache_dir+'outputs/'\n"
   ]
  },
  {
   "cell_type": "code",
   "execution_count": 2,
   "metadata": {},
   "outputs": [],
   "source": [
    "KEYWORDS={\n",
    "        #----------------------form--------------------------------------\n",
    "       'firstname':['firstname','first_name','forename','first','first-name'],\n",
    "       'lastname':['lastname','last_name','surename','last','last-name'] ,\n",
    "       'email':['email','e-mail','username','user_name','user-name','type=\"email\"'], \n",
    "       'password':['password'], \n",
    "       'cv':['cv','resume','curriculum','vitae'],\n",
    "       'birthdate':['birthdate','birth','dateofbirth','date-of-birth','birth-date'],\n",
    "       'phonenumber':['phonenumber','phone','telephone','tel'],\n",
    "       'housenumber':['hausnummer'],\n",
    "       'residentcountry':['resident','country'],\n",
    "       'citizencountry':['citizen','citizenship','city'],\n",
    "       'transcript':['transcript'],\n",
    "       'coverletter':['coverletter','cover', 'letter'], \n",
    "       'picture':['picture'], \n",
    "       'address':['address','location'],\n",
    "       'linkedin':['linkedin'],\n",
    "       'github':['github'],\n",
    "       'xing':['xing'],\n",
    "       'twitter':['twitter'],\n",
    "       'website':['website'],\n",
    "       'postalcode':['postalcode','zip','zip-code','postal'],\n",
    "       'city':['city'],\n",
    "       'housenumber':['housenumber'], \n",
    "       'salary':['salary'],\n",
    "       'sex':['sex','gender'], \n",
    "       'availablefrom':['noticeprieod'],\n",
    "       'file':['type=\"file\"'],\n",
    "       'captcha':['captcha'],\n",
    "       'submit':['apply','type=\"submit\"'],\n",
    "       'cancel':['cancel'],\n",
    "       'fake':['fake'],\n",
    "       'question':['question'],\n",
    "       'agree':['agree'],\n",
    "       'other':['other'],\n",
    "       'apply':['apply'],\n",
    "       'recommendation':['recommendation'],\n",
    "       'workherebefore':['workherebefore'],\n",
    "       'findus':['find'],\n",
    "       'dropbox':['dropbox'],\n",
    "       'googledrive':['google drive'],\n",
    "       'workhours':['workhours'],\n",
    "       'workduration':[''],\n",
    "       'visa':['visa'],\n",
    "       'eligible':['eligible'],\n",
    "       'germanlevel':['germanlevel'],\n",
    "       'company':[''],#current company\n",
    "       'relocate':[''],\n",
    "       'universityenrollment':[],#are a student?\n",
    "       'englishlevel':[],\n",
    "       #important about job\n",
    "       #important about jobplace?\n",
    "              \n",
    "       #-------------------------------------------------------------------\n",
    "       #-----------------------------------btns ---------------------------\n",
    "       'login':['login','sign'],\n",
    "       'username':['username'],\n",
    "       'register':['register','sign'],\n",
    "       'cookie':['cookie'],\n",
    "       'next':['apply now','next'],\n",
    "       'search':[],\n",
    "       #-------------------------------------------------------------------\n",
    "       \n",
    "       \n",
    "       \n",
    "       \n",
    "       }\n",
    "\n",
    "\n",
    "LABEL_INDEX_TO_KEY = list(KEYWORDS.keys()) #self.personal_data.columns\n",
    "i =0\n",
    "LABEL_KEY_TO_INDEX = {}\n",
    "for key in KEYWORDS:\n",
    "            LABEL_KEY_TO_INDEX[key] =i\n",
    "            i+=1 "
   ]
  },
  {
   "cell_type": "code",
   "execution_count": 3,
   "metadata": {},
   "outputs": [
    {
     "data": {
      "text/html": [
       "<div>\n",
       "<style scoped>\n",
       "    .dataframe tbody tr th:only-of-type {\n",
       "        vertical-align: middle;\n",
       "    }\n",
       "\n",
       "    .dataframe tbody tr th {\n",
       "        vertical-align: top;\n",
       "    }\n",
       "\n",
       "    .dataframe thead th {\n",
       "        text-align: right;\n",
       "    }\n",
       "</style>\n",
       "<table border=\"1\" class=\"dataframe\">\n",
       "  <thead>\n",
       "    <tr style=\"text-align: right;\">\n",
       "      <th></th>\n",
       "      <th>text</th>\n",
       "      <th>element</th>\n",
       "      <th>label</th>\n",
       "      <th>input_text</th>\n",
       "      <th>labels</th>\n",
       "    </tr>\n",
       "  </thead>\n",
       "  <tbody>\n",
       "    <tr>\n",
       "      <th>0</th>\n",
       "      <td>personal informationcv or resumebrowse cv to a...</td>\n",
       "      <td>&lt;input name=\"cv\" accept=\"application/pdf,.pdf\"...</td>\n",
       "      <td>cv</td>\n",
       "      <td>personal informationcv or resumebrowse cv to a...</td>\n",
       "      <td>cv</td>\n",
       "    </tr>\n",
       "    <tr>\n",
       "      <th>1</th>\n",
       "      <td>*&lt;input data-testid=\"textinput\" id=\"email\" req...</td>\n",
       "      <td>&lt;input data-testid=\"textinput\" id=\"email\" requ...</td>\n",
       "      <td>email</td>\n",
       "      <td>&lt;input data-testid=\"textinput\" id=\"email\" requ...</td>\n",
       "      <td>email</td>\n",
       "    </tr>\n",
       "    <tr>\n",
       "      <th>2</th>\n",
       "      <td>*&lt;input data-testid=\"textinput\" id=\"email\" req...</td>\n",
       "      <td>&lt;input data-testid=\"firstname\" id=\"firstname\" ...</td>\n",
       "      <td>firstname</td>\n",
       "      <td>*&lt;input data-testid=\"firstname\" id=\"firstname\"...</td>\n",
       "      <td>firstname</td>\n",
       "    </tr>\n",
       "    <tr>\n",
       "      <th>3</th>\n",
       "      <td>*&lt;input data-testid=\"textinput\" id=\"email\" req...</td>\n",
       "      <td>&lt;input data-testid=\"lastname\" id=\"lastname\" re...</td>\n",
       "      <td>lastname</td>\n",
       "      <td>*&lt;input data-testid=\"lastname\" id=\"lastname\" r...</td>\n",
       "      <td>lastname</td>\n",
       "    </tr>\n",
       "    <tr>\n",
       "      <th>4</th>\n",
       "      <td>*&lt;input data-testid=\"textinput\" id=\"email\" req...</td>\n",
       "      <td>&lt;input accept=\".doc, .docx, .pdf, .rtf, .txt\" ...</td>\n",
       "      <td>firstname</td>\n",
       "      <td>documents:.doc, .docx, .pdf, .rtf, .txt&lt;input ...</td>\n",
       "      <td>cv</td>\n",
       "    </tr>\n",
       "    <tr>\n",
       "      <th>...</th>\n",
       "      <td>...</td>\n",
       "      <td>...</td>\n",
       "      <td>...</td>\n",
       "      <td>...</td>\n",
       "      <td>...</td>\n",
       "    </tr>\n",
       "    <tr>\n",
       "      <th>596</th>\n",
       "      <td>business analyst (m/w/d)*&lt;input type=\"file\" si...</td>\n",
       "      <td>&lt;a href=\"https://vertriebskarriere.hansemerkur...</td>\n",
       "      <td>firstname</td>\n",
       "      <td>upload fileprivacy policy&lt;a href=\"https://vert...</td>\n",
       "      <td>agree</td>\n",
       "    </tr>\n",
       "    <tr>\n",
       "      <th>597</th>\n",
       "      <td>business analyst (m/w/d)*&lt;input type=\"file\" si...</td>\n",
       "      <td>&lt;a href=\"https://bewerber-innendienst.hansemer...</td>\n",
       "      <td>phonenumber</td>\n",
       "      <td>back&lt;a href=\"https://bewerber-innendienst.hans...</td>\n",
       "      <td>cancel</td>\n",
       "    </tr>\n",
       "    <tr>\n",
       "      <th>598</th>\n",
       "      <td>business analyst (m/w/d)*&lt;input type=\"file\" si...</td>\n",
       "      <td>&lt;a href=\"#\" onclick=\"javascript: $(this).paren...</td>\n",
       "      <td>firstname</td>\n",
       "      <td>send&lt;a href=\"#\" onclick=\"javascript: $(this).p...</td>\n",
       "      <td>submit</td>\n",
       "    </tr>\n",
       "    <tr>\n",
       "      <th>599</th>\n",
       "      <td>&lt;input type=\"email\" name=\"email\" placeholder=\"...</td>\n",
       "      <td>&lt;input type=\"email\" name=\"email\" placeholder=\"...</td>\n",
       "      <td>email</td>\n",
       "      <td>input type=\"email\" name=\"email\" placeholder=\"y...</td>\n",
       "      <td>email</td>\n",
       "    </tr>\n",
       "    <tr>\n",
       "      <th>600</th>\n",
       "      <td>&lt;input type=\"email\" name=\"email\" placeholder=\"...</td>\n",
       "      <td>&lt;input type=\"text\" name=\"name\" placeholder=\"de...</td>\n",
       "      <td>firstname</td>\n",
       "      <td>&lt;input type=\"text\" name=\"name\" placeholder=\"yo...</td>\n",
       "      <td>lastname</td>\n",
       "    </tr>\n",
       "  </tbody>\n",
       "</table>\n",
       "<p>601 rows × 5 columns</p>\n",
       "</div>"
      ],
      "text/plain": [
       "                                                  text  \\\n",
       "0    personal informationcv or resumebrowse cv to a...   \n",
       "1    *<input data-testid=\"textinput\" id=\"email\" req...   \n",
       "2    *<input data-testid=\"textinput\" id=\"email\" req...   \n",
       "3    *<input data-testid=\"textinput\" id=\"email\" req...   \n",
       "4    *<input data-testid=\"textinput\" id=\"email\" req...   \n",
       "..                                                 ...   \n",
       "596  business analyst (m/w/d)*<input type=\"file\" si...   \n",
       "597  business analyst (m/w/d)*<input type=\"file\" si...   \n",
       "598  business analyst (m/w/d)*<input type=\"file\" si...   \n",
       "599  <input type=\"email\" name=\"email\" placeholder=\"...   \n",
       "600  <input type=\"email\" name=\"email\" placeholder=\"...   \n",
       "\n",
       "                                               element        label  \\\n",
       "0    <input name=\"cv\" accept=\"application/pdf,.pdf\"...           cv   \n",
       "1    <input data-testid=\"textinput\" id=\"email\" requ...        email   \n",
       "2    <input data-testid=\"firstname\" id=\"firstname\" ...    firstname   \n",
       "3    <input data-testid=\"lastname\" id=\"lastname\" re...     lastname   \n",
       "4    <input accept=\".doc, .docx, .pdf, .rtf, .txt\" ...    firstname   \n",
       "..                                                 ...          ...   \n",
       "596  <a href=\"https://vertriebskarriere.hansemerkur...    firstname   \n",
       "597  <a href=\"https://bewerber-innendienst.hansemer...  phonenumber   \n",
       "598  <a href=\"#\" onclick=\"javascript: $(this).paren...    firstname   \n",
       "599  <input type=\"email\" name=\"email\" placeholder=\"...        email   \n",
       "600  <input type=\"text\" name=\"name\" placeholder=\"de...    firstname   \n",
       "\n",
       "                                            input_text     labels  \n",
       "0    personal informationcv or resumebrowse cv to a...         cv  \n",
       "1    <input data-testid=\"textinput\" id=\"email\" requ...      email  \n",
       "2    *<input data-testid=\"firstname\" id=\"firstname\"...  firstname  \n",
       "3    *<input data-testid=\"lastname\" id=\"lastname\" r...   lastname  \n",
       "4    documents:.doc, .docx, .pdf, .rtf, .txt<input ...         cv  \n",
       "..                                                 ...        ...  \n",
       "596  upload fileprivacy policy<a href=\"https://vert...      agree  \n",
       "597  back<a href=\"https://bewerber-innendienst.hans...     cancel  \n",
       "598  send<a href=\"#\" onclick=\"javascript: $(this).p...     submit  \n",
       "599  input type=\"email\" name=\"email\" placeholder=\"y...      email  \n",
       "600  <input type=\"text\" name=\"name\" placeholder=\"yo...   lastname  \n",
       "\n",
       "[601 rows x 5 columns]"
      ]
     },
     "execution_count": 3,
     "metadata": {},
     "output_type": "execute_result"
    }
   ],
   "source": [
    "mydata = pd.read_pickle('input_text.pkl')\n",
    "#mydata.reset_index(inplace=True)\n",
    "mydata"
   ]
  },
  {
   "cell_type": "code",
   "execution_count": 4,
   "metadata": {},
   "outputs": [
    {
     "data": {
      "text/plain": [
       "<Axes: xlabel='labels'>"
      ]
     },
     "execution_count": 4,
     "metadata": {},
     "output_type": "execute_result"
    },
    {
     "data": {
      "image/png": "[encoded data removed]",
      "text/plain": [
       "<Figure size 1000x1000 with 1 Axes>"
      ]
     },
     "metadata": {},
     "output_type": "display_data"
    }
   ],
   "source": [
    "mydata['labels'].value_counts().plot(figsize=(10,10), kind='bar')"
   ]
  },
  {
   "cell_type": "code",
   "execution_count": 5,
   "metadata": {},
   "outputs": [],
   "source": [
    "mydata[mydata['labels']=='residentcounty']#='residentcountry'\n",
    "mydata.loc[45,'labels'] = 'residentcountry'"
   ]
  },
  {
   "cell_type": "code",
   "execution_count": 6,
   "metadata": {},
   "outputs": [
    {
     "data": {
      "text/plain": [
       "\"index = (inp['input_ids']== toknizer.mask_token_id).int().argmax().item()\\nprint(index ,o.logits.shape)\\ntoken_id = o.logits[0,index,:].argsort(descending=True)\\nr = toknizer.convert_ids_to_tokens(token_id[:5])\\nMASK = toknizer.convert_tokens_to_string(r[0:1])\\n\""
      ]
     },
     "execution_count": 6,
     "metadata": {},
     "output_type": "execute_result"
    }
   ],
   "source": [
    "\"\"\"index = (inp['input_ids']== toknizer.mask_token_id).int().argmax().item()\n",
    "print(index ,o.logits.shape)\n",
    "token_id = o.logits[0,index,:].argsort(descending=True)\n",
    "r = toknizer.convert_ids_to_tokens(token_id[:5])\n",
    "MASK = toknizer.convert_tokens_to_string(r[0:1])\n",
    "\"\"\""
   ]
  },
  {
   "cell_type": "code",
   "execution_count": 7,
   "metadata": {},
   "outputs": [
    {
     "name": "stderr",
     "output_type": "stream",
     "text": [
      "Some weights of the model checkpoint at FacebookAI/roberta-large-mnli were not used when initializing RobertaForSequenceClassification: ['roberta.pooler.dense.bias', 'roberta.pooler.dense.weight']\n",
      "- This IS expected if you are initializing RobertaForSequenceClassification from the checkpoint of a model trained on another task or with another architecture (e.g. initializing a BertForSequenceClassification model from a BertForPreTraining model).\n",
      "- This IS NOT expected if you are initializing RobertaForSequenceClassification from the checkpoint of a model that you expect to be exactly identical (initializing a BertForSequenceClassification model from a BertForSequenceClassification model).\n"
     ]
    },
    {
     "name": "stdout",
     "output_type": "stream",
     "text": [
      "classifier.out_proj.weight torch.Size([3, 1024])\n",
      "classifier.out_proj.bias torch.Size([3])\n"
     ]
    },
    {
     "data": {
      "text/plain": [
       "RobertaForSequenceClassification(\n",
       "  (roberta): RobertaModel(\n",
       "    (embeddings): RobertaEmbeddings(\n",
       "      (word_embeddings): Embedding(50265, 1024, padding_idx=1)\n",
       "      (position_embeddings): Embedding(514, 1024, padding_idx=1)\n",
       "      (token_type_embeddings): Embedding(1, 1024)\n",
       "      (LayerNorm): LayerNorm((1024,), eps=1e-05, elementwise_affine=True)\n",
       "      (dropout): Dropout(p=0.1, inplace=False)\n",
       "    )\n",
       "    (encoder): RobertaEncoder(\n",
       "      (layer): ModuleList(\n",
       "        (0-23): 24 x RobertaLayer(\n",
       "          (attention): RobertaAttention(\n",
       "            (self): RobertaSelfAttention(\n",
       "              (query): Linear(in_features=1024, out_features=1024, bias=True)\n",
       "              (key): Linear(in_features=1024, out_features=1024, bias=True)\n",
       "              (value): Linear(in_features=1024, out_features=1024, bias=True)\n",
       "              (dropout): Dropout(p=0.1, inplace=False)\n",
       "            )\n",
       "            (output): RobertaSelfOutput(\n",
       "              (dense): Linear(in_features=1024, out_features=1024, bias=True)\n",
       "              (LayerNorm): LayerNorm((1024,), eps=1e-05, elementwise_affine=True)\n",
       "              (dropout): Dropout(p=0.1, inplace=False)\n",
       "            )\n",
       "          )\n",
       "          (intermediate): RobertaIntermediate(\n",
       "            (dense): Linear(in_features=1024, out_features=4096, bias=True)\n",
       "            (intermediate_act_fn): GELUActivation()\n",
       "          )\n",
       "          (output): RobertaOutput(\n",
       "            (dense): Linear(in_features=4096, out_features=1024, bias=True)\n",
       "            (LayerNorm): LayerNorm((1024,), eps=1e-05, elementwise_affine=True)\n",
       "            (dropout): Dropout(p=0.1, inplace=False)\n",
       "          )\n",
       "        )\n",
       "      )\n",
       "    )\n",
       "  )\n",
       "  (classifier): RobertaClassificationHead(\n",
       "    (dense): Linear(in_features=1024, out_features=1024, bias=True)\n",
       "    (dropout): Dropout(p=0.1, inplace=False)\n",
       "    (out_proj): Linear(in_features=1024, out_features=3, bias=True)\n",
       "  )\n",
       ")"
      ]
     },
     "execution_count": 7,
     "metadata": {},
     "output_type": "execute_result"
    }
   ],
   "source": [
    "tokenizer = AutoTokenizer.from_pretrained(\"FacebookAI/roberta-large-mnli\" , cache_dir=cache_dir)\n",
    "model  = AutoModelForSequenceClassification.from_pretrained(\"FacebookAI/roberta-large-mnli\",\n",
    "                          #quantization_config=GPTQConfig(bits=4, disable_exllama=False),\n",
    "                          #load_in_8bit=True,\n",
    "                          num_labels=3,\n",
    "                          cache_dir=cache_dir).half()\n",
    "\n",
    "#model = get_peft_model(model,LoraConfig(task_type= 'SEQ_CLS',target_modules =['out_proj']))\n",
    "#model.print_trainable_parameters()\n",
    "for n, p in model.named_parameters():\n",
    "    if 'out_proj' not in n:\n",
    "        p.requires_grad = False\n",
    "\n",
    "# Check which parameters are still trainable\n",
    "for n, p in model.named_parameters():\n",
    "    if p.requires_grad:\n",
    "        print(f'{n} {p.shape}')\n",
    "model"
   ]
  },
  {
   "cell_type": "code",
   "execution_count": 8,
   "metadata": {},
   "outputs": [
    {
     "name": "stderr",
     "output_type": "stream",
     "text": [
      "Map: 100%|██████████| 480/480 [00:00<00:00, 58254.22 examples/s]\n",
      "Map: 100%|██████████| 121/121 [00:00<00:00, 44502.87 examples/s]\n"
     ]
    },
    {
     "data": {
      "text/plain": [
       "Dataset({\n",
       "    features: ['label', 'p', 'h'],\n",
       "    num_rows: 480\n",
       "})"
      ]
     },
     "execution_count": 8,
     "metadata": {},
     "output_type": "execute_result"
    }
   ],
   "source": [
    "data = datasets.Dataset.from_pandas(mydata)\n",
    "data = data.train_test_split(0.2)\n",
    "train_dataset = data['train']\n",
    "test_dataset = data['test']\n",
    "\n",
    "#print(len(test_dataset),len(test_dataset['labels']))\n",
    "def preprocess(example):\n",
    "    #print(example['element'])\n",
    "    h = []\n",
    "    p = []\n",
    "    l = []\n",
    "    #print(example['labels'])\n",
    "    \n",
    "    for i in range(len(example['labels'])):\n",
    "        #print(i,len(example['labels']))\n",
    "        for key in KEYWORDS.keys():\n",
    "            if key==example['labels'][i]:\n",
    "                #print(key,example['labels'][i])\n",
    "                l.append(2)\n",
    "            else:\n",
    "                l.append(0)\n",
    "                \n",
    "                \n",
    "            \n",
    "            h.append(f\"this text is about {key}.\")\n",
    "            p.append(example['element'][i])\n",
    "            \n",
    "    #h = [f\"this text is about {i} .\" for i in example['text']]\n",
    " \n",
    "        \n",
    "        \n",
    "    #t = tokenizer(p,h,return_tensors='pt' , padding=True,truncation=True ,max_length=512).to('cuda')\n",
    "    example['p'] = p\n",
    "    example['h'] = h\n",
    "    example['label'] = l\n",
    "    return example\n",
    "\n",
    "def pretok(example):\n",
    "    \n",
    "    x = tokenizer(example['p'],example['h'],return_tensors='pt' , padding=False,truncation=True ,max_length=512)\n",
    "    x['input_ids'] = x['input_ids'][0]\n",
    "    x['attention_mask'] = x['attention_mask'][0]\n",
    "    return x\n",
    "\"\"\"def preprocess(example):\n",
    "    #print(example['element'])\n",
    "    h = [f\"this text is about {i} .\" for i in example['text']]\n",
    "    t= tokenizer(example['element'],h,return_tensors='pt' , padding=True,truncation=True ,max_length=512).to('cuda')\n",
    "    t['labels'] = [1 for i in example['labels']]\n",
    "    return t\"\"\"\n",
    "\n",
    "train_dataset_tokenized =  train_dataset.map(preprocess,batch_size=32,batched=True,drop_last_batch=False,remove_columns=['text', 'element', 'labels', 'input_text'])\n",
    "test_dataset_tokenized =  test_dataset.map(preprocess,batch_size=32,batched=True,drop_last_batch=False,remove_columns=['text', 'element', 'labels', 'input_text'])\n",
    "\n",
    "train_dataset_tokenized"
   ]
  },
  {
   "cell_type": "code",
   "execution_count": 9,
   "metadata": {},
   "outputs": [
    {
     "name": "stderr",
     "output_type": "stream",
     "text": [
      "Map: 100%|██████████| 480/480 [00:00<00:00, 6092.96 examples/s]\n",
      "Map: 100%|██████████| 121/121 [00:00<00:00, 5975.57 examples/s]\n"
     ]
    },
    {
     "data": {
      "text/plain": [
       "Dataset({\n",
       "    features: ['label', 'input_ids', 'attention_mask'],\n",
       "    num_rows: 121\n",
       "})"
      ]
     },
     "execution_count": 9,
     "metadata": {},
     "output_type": "execute_result"
    }
   ],
   "source": [
    "train_dataset_tokenized =  train_dataset_tokenized.map(pretok,batch_size=32,batched=False,drop_last_batch=False,remove_columns=['p', 'h'])\n",
    "test_dataset_tokenized =  test_dataset_tokenized.map(pretok,batch_size=32,batched=False,drop_last_batch=False,remove_columns=['p', 'h'])\n",
    "\n",
    "\n",
    "test_dataset_tokenized\n"
   ]
  },
  {
   "cell_type": "code",
   "execution_count": 10,
   "metadata": {},
   "outputs": [],
   "source": [
    "def f(x):\n",
    "\n",
    "    \n",
    "    return x\n",
    "#test_dataset_tokenized = test_dataset_tokenized.map(f) \n"
   ]
  },
  {
   "cell_type": "code",
   "execution_count": 11,
   "metadata": {},
   "outputs": [
    {
     "data": {
      "text/plain": [
       "105"
      ]
     },
     "execution_count": 11,
     "metadata": {},
     "output_type": "execute_result"
    }
   ],
   "source": [
    "len(test_dataset_tokenized['input_ids'][2])"
   ]
  },
  {
   "cell_type": "code",
   "execution_count": 12,
   "metadata": {},
   "outputs": [
    {
     "name": "stderr",
     "output_type": "stream",
     "text": [
      "/proj/ciptmp/ix05ogym/myenv/lib/python3.11/site-packages/transformers/tokenization_utils_base.py:2717: UserWarning: `max_length` is ignored when `padding`=`True` and there is no truncation strategy. To pad to max length, use `padding='max_length'`.\n",
      "  warnings.warn(\n"
     ]
    },
    {
     "data": {
      "text/plain": [
       "{'input_ids': tensor([[    0, 41552, 46797,  ...,     1,     1,     1],\n",
       "        [    0, 41552, 29015,  ...,     1,     1,     1],\n",
       "        [    0, 41552,   102,  ...,     1,     1,     1],\n",
       "        ...,\n",
       "        [    0, 41552, 46797,  ...,     1,     1,     1],\n",
       "        [    0, 41552, 46797,  ...,  2170,     4,     2],\n",
       "        [    0, 41552, 46797,  ...,     1,     1,     1]]), 'attention_mask': tensor([[1, 1, 1,  ..., 0, 0, 0],\n",
       "        [1, 1, 1,  ..., 0, 0, 0],\n",
       "        [1, 1, 1,  ..., 0, 0, 0],\n",
       "        ...,\n",
       "        [1, 1, 1,  ..., 0, 0, 0],\n",
       "        [1, 1, 1,  ..., 1, 1, 1],\n",
       "        [1, 1, 1,  ..., 0, 0, 0]]), 'labels': tensor([2, 2, 2, 2, 2, 2, 2, 2])}"
      ]
     },
     "execution_count": 12,
     "metadata": {},
     "output_type": "execute_result"
    }
   ],
   "source": [
    "from transformers import DataCollatorWithPadding\n",
    "data_collator = DataCollatorWithPadding(tokenizer=tokenizer,max_length=512)\n",
    "s = data_collator(test_dataset_tokenized[0:8])\n",
    "s"
   ]
  },
  {
   "cell_type": "code",
   "execution_count": 13,
   "metadata": {},
   "outputs": [
    {
     "name": "stdout",
     "output_type": "stream",
     "text": [
      "firstname\n"
     ]
    },
    {
     "data": {
      "text/plain": [
       "'<s><input type=\"submit\" name=\"commit\" value=\"log in\" class=\"button bg-orange fnt-sans-semi-bold clr-white fnt-size-16 pad-10 expand hvr-opacity\" data-disable-with=\"log in\"></s></s>this text is about submit.</s>'"
      ]
     },
     "execution_count": 13,
     "metadata": {},
     "output_type": "execute_result"
    }
   ],
   "source": [
    "print(train_dataset['label'][0])\n",
    "tokenizer.convert_tokens_to_string( tokenizer.convert_ids_to_tokens( train_dataset_tokenized[32]['input_ids'] ) )\n",
    "#train_dataset_tokenized[2]['labels']"
   ]
  },
  {
   "cell_type": "code",
   "execution_count": 14,
   "metadata": {},
   "outputs": [
    {
     "data": {
      "text/plain": [
       "{'label': 2,\n",
       " 'input_ids': [0,\n",
       "  41552,\n",
       "  46797,\n",
       "  1907,\n",
       "  40635,\n",
       "  15954,\n",
       "  8304,\n",
       "  113,\n",
       "  1380,\n",
       "  40635,\n",
       "  26296,\n",
       "  29,\n",
       "  12,\n",
       "  3899,\n",
       "  12,\n",
       "  15954,\n",
       "  30529,\n",
       "  46797,\n",
       "  113,\n",
       "  766,\n",
       "  40635,\n",
       "  1215,\n",
       "  642,\n",
       "  1343,\n",
       "  1215,\n",
       "  996,\n",
       "  6405,\n",
       "  29899,\n",
       "  113,\n",
       "  13561,\n",
       "  40635,\n",
       "  1215,\n",
       "  642,\n",
       "  1343,\n",
       "  1215,\n",
       "  996,\n",
       "  6405,\n",
       "  29899,\n",
       "  12,\n",
       "  245,\n",
       "  24083,\n",
       "  1360,\n",
       "  113,\n",
       "  923,\n",
       "  40635,\n",
       "  245,\n",
       "  24083,\n",
       "  1360,\n",
       "  46479,\n",
       "  2,\n",
       "  2,\n",
       "  9226,\n",
       "  2788,\n",
       "  16,\n",
       "  59,\n",
       "  2854,\n",
       "  4,\n",
       "  2],\n",
       " 'attention_mask': [1,\n",
       "  1,\n",
       "  1,\n",
       "  1,\n",
       "  1,\n",
       "  1,\n",
       "  1,\n",
       "  1,\n",
       "  1,\n",
       "  1,\n",
       "  1,\n",
       "  1,\n",
       "  1,\n",
       "  1,\n",
       "  1,\n",
       "  1,\n",
       "  1,\n",
       "  1,\n",
       "  1,\n",
       "  1,\n",
       "  1,\n",
       "  1,\n",
       "  1,\n",
       "  1,\n",
       "  1,\n",
       "  1,\n",
       "  1,\n",
       "  1,\n",
       "  1,\n",
       "  1,\n",
       "  1,\n",
       "  1,\n",
       "  1,\n",
       "  1,\n",
       "  1,\n",
       "  1,\n",
       "  1,\n",
       "  1,\n",
       "  1,\n",
       "  1,\n",
       "  1,\n",
       "  1,\n",
       "  1,\n",
       "  1,\n",
       "  1,\n",
       "  1,\n",
       "  1,\n",
       "  1,\n",
       "  1,\n",
       "  1,\n",
       "  1,\n",
       "  1,\n",
       "  1,\n",
       "  1,\n",
       "  1,\n",
       "  1,\n",
       "  1,\n",
       "  1]}"
      ]
     },
     "execution_count": 14,
     "metadata": {},
     "output_type": "execute_result"
    }
   ],
   "source": [
    "train_dataset_tokenized[0]"
   ]
  },
  {
   "cell_type": "code",
   "execution_count": 15,
   "metadata": {},
   "outputs": [],
   "source": [
    "#train_dataset_tokenized['labels'][1]"
   ]
  },
  {
   "cell_type": "code",
   "execution_count": 29,
   "metadata": {},
   "outputs": [
    {
     "data": {
      "text/html": [
       "\n",
       "    <div>\n",
       "      \n",
       "      <progress value='6' max='4' style='width:300px; height:20px; vertical-align: middle;'></progress>\n",
       "      [4/4 01:36]\n",
       "    </div>\n",
       "    "
      ],
      "text/plain": [
       "<IPython.core.display.HTML object>"
      ]
     },
     "metadata": {},
     "output_type": "display_data"
    },
    {
     "name": "stdout",
     "output_type": "stream",
     "text": [
      "(480, 3)\n",
      "tensor(1) tensor(2)\n",
      "tensor(0.6854)\n",
      "{'eval_loss': 0.9522534608840942, 'eval_acc': 0.6854166388511658, 'eval_runtime': 4.2095, 'eval_samples_per_second': 114.029, 'eval_steps_per_second': 0.95}\n",
      "(121, 3)\n",
      "tensor(2) tensor(2)\n",
      "tensor(0.6529)\n",
      "{'eval_loss': 1.0261553525924683, 'eval_acc': 0.6528925895690918, 'eval_runtime': 0.7809, 'eval_samples_per_second': 154.95, 'eval_steps_per_second': 1.281}\n"
     ]
    },
    {
     "data": {
      "text/html": [
       "\n",
       "    <div>\n",
       "      \n",
       "      <progress value='40' max='40' style='width:300px; height:20px; vertical-align: middle;'></progress>\n",
       "      [40/40 00:52, Epoch 10/10]\n",
       "    </div>\n",
       "    <table border=\"1\" class=\"dataframe\">\n",
       "  <thead>\n",
       " <tr style=\"text-align: left;\">\n",
       "      <th>Step</th>\n",
       "      <th>Training Loss</th>\n",
       "    </tr>\n",
       "  </thead>\n",
       "  <tbody>\n",
       "  </tbody>\n",
       "</table><p>"
      ],
      "text/plain": [
       "<IPython.core.display.HTML object>"
      ]
     },
     "metadata": {},
     "output_type": "display_data"
    },
    {
     "data": {
      "text/plain": [
       "TrainOutput(global_step=40, training_loss=0.5146239757537842, metrics={'train_runtime': 53.9104, 'train_samples_per_second': 89.037, 'train_steps_per_second': 0.742, 'total_flos': 2768602697811264.0, 'train_loss': 0.5146239757537842, 'epoch': 10.0})"
      ]
     },
     "execution_count": 29,
     "metadata": {},
     "output_type": "execute_result"
    }
   ],
   "source": [
    "import torchmetrics\n",
    "import numpy as np\n",
    "from var_dump import var_dump\n",
    "from transformers import DefaultDataCollator\n",
    "\n",
    "def compute_metric(inp):\n",
    "    preds , label_ids  = inp\n",
    "    print(preds.shape)\n",
    "    \n",
    "    preds = torch.tensor(preds)\n",
    "    label_ids = torch.tensor(label_ids)\n",
    "    \n",
    "    p_label = preds.argmax(1)\n",
    "    \n",
    "    for p,l in zip(p_label,label_ids):\n",
    "        print(p,l)\n",
    "        break\n",
    "    metric = torchmetrics.Accuracy('multiclass',num_classes=3)\n",
    "    acc = metric(p_label , label_ids )\n",
    "    print(acc)\n",
    "    return {'acc':acc}\n",
    "\n",
    "\n",
    "batch_size = 128\n",
    "trainer =  Trainer(\n",
    "    model=model,\n",
    "    train_dataset=train_dataset_tokenized,\n",
    "    eval_dataset=test_dataset_tokenized,\n",
    "    compute_metrics=compute_metric,\n",
    "    #data_collator=data_collator, #DataCollatorWithPadding(tokenizer),\n",
    "    tokenizer= tokenizer,\n",
    "    \n",
    "    args= TrainingArguments(\n",
    "        output_dir=output_dir,\n",
    "        overwrite_output_dir=True,\n",
    "        num_train_epochs=10,\n",
    "        per_device_train_batch_size=batch_size,\n",
    "        per_device_eval_batch_size=batch_size,\n",
    "        bf16=True,\n",
    "        learning_rate=1e-4,\n",
    "        optim='adafactor',\n",
    "        \n",
    "        \n",
    "        \n",
    "        \n",
    "    )\n",
    "    \n",
    ")\n",
    "\n",
    "\n",
    "\n",
    "\n",
    "print(trainer.evaluate(train_dataset_tokenized))\n",
    "print(trainer.evaluate())\n",
    "\n",
    "trainer.train()"
   ]
  },
  {
   "cell_type": "code",
   "execution_count": 30,
   "metadata": {},
   "outputs": [
    {
     "name": "stdout",
     "output_type": "stream",
     "text": [
      "(121, 3)\n",
      "tensor(2) tensor(2)\n",
      "tensor(0.8430)\n"
     ]
    },
    {
     "data": {
      "text/plain": [
       "{'eval_loss': 0.5682231187820435,\n",
       " 'eval_acc': 0.8429751992225647,\n",
       " 'eval_runtime': 0.8084,\n",
       " 'eval_samples_per_second': 149.683,\n",
       " 'eval_steps_per_second': 1.237,\n",
       " 'epoch': 10.0}"
      ]
     },
     "execution_count": 30,
     "metadata": {},
     "output_type": "execute_result"
    }
   ],
   "source": [
    "trainer.evaluate()"
   ]
  },
  {
   "cell_type": "code",
   "execution_count": null,
   "metadata": {},
   "outputs": [
    {
     "data": {
      "text/plain": [
       "Parameter containing:\n",
       "tensor([[ 0.0154, -0.0114,  0.0045,  ..., -0.0197, -0.0067,  0.0116],\n",
       "        [-0.0086, -0.0055, -0.0196,  ...,  0.0327, -0.0123,  0.0139],\n",
       "        [ 0.0086,  0.0144, -0.0011,  ...,  0.0209,  0.0054, -0.0222]],\n",
       "       device='cuda:0', dtype=torch.float16, requires_grad=True)"
      ]
     },
     "execution_count": 22,
     "metadata": {},
     "output_type": "execute_result"
    }
   ],
   "source": [
    "model.classifier.out_proj.weight"
   ]
  },
  {
   "cell_type": "code",
   "execution_count": 31,
   "metadata": {},
   "outputs": [
    {
     "data": {
      "text/plain": [
       "0.04583333333333333"
      ]
     },
     "execution_count": 31,
     "metadata": {},
     "output_type": "execute_result"
    }
   ],
   "source": [
    "n = 0\n",
    "ds = train_dataset\n",
    "for i in range(len(ds)):\n",
    "    y = preprocess(ds[i:i+1])\n",
    "    x = tokenizer(y['p'],y['h'],return_tensors='pt' , padding=True,truncation=True ,max_length=512).to('cuda')\n",
    "    #print(y.keys())\n",
    "    with torch.no_grad():\n",
    "        o = model(**x)\n",
    "        index = o.logits[:,2].argmax(0)\n",
    "        if LABEL_INDEX_TO_KEY[index]==y['labels'][0]:\n",
    "            n+=1\n",
    "            \n",
    "        \n",
    "\n",
    "    #break\n",
    "    \n",
    "n/len(ds)"
   ]
  },
  {
   "cell_type": "code",
   "execution_count": null,
   "metadata": {},
   "outputs": [
    {
     "ename": "SyntaxError",
     "evalue": "invalid syntax (2147963413.py, line 1)",
     "output_type": "error",
     "traceback": [
      "\u001b[0;36m  Cell \u001b[0;32mIn[19], line 1\u001b[0;36m\u001b[0m\n\u001b[0;31m    $$$\u001b[0m\n\u001b[0m    ^\u001b[0m\n\u001b[0;31mSyntaxError\u001b[0m\u001b[0;31m:\u001b[0m invalid syntax\n"
     ]
    }
   ],
   "source": [
    "$$$\n",
    "for batch in trainer.get_train_dataloader():\n",
    "    break\n",
    "trainer.model.to('cuda')\n",
    "batch = {k: v.to('cuda') for k, v in batch.items()}\n",
    "trainer.create_optimizer()\n",
    "#print(batch)\n",
    "for _ in range(20):\n",
    "    outputs = trainer.model(**batch)\n",
    "    loss = outputs.loss\n",
    "    print(loss)\n",
    "    loss.backward()\n",
    "    print(model.classifier.out_proj.weight.grad)\n",
    "    print(model.classifier.out_proj.bias.grad)\n",
    "    \n",
    "    trainer.optimizer.step()\n",
    "    print('-------------------------------------------------')\n",
    "    print(model.classifier.out_proj.weight.grad)\n",
    "    \n",
    "    trainer.optimizer.zero_grad()\n",
    "    #break\n"
   ]
  },
  {
   "cell_type": "code",
   "execution_count": null,
   "metadata": {},
   "outputs": [],
   "source": [
    "\"\"\"bid = json.loads(d['actions'][1]['pos_candidates'][0]['attributes'])['backend_node_id']\n",
    "print(d['actions'][1]['pos_candidates'])\n",
    "soup = BeautifulSoup(lll['html'][1])#d['actions'][1]['raw_html'])\n",
    "#soup = BeautifulSoup(d['actions'][3]['raw_html'])\n",
    "#s = soup.find( '*' )\n",
    "# Find all 'div' tags\n",
    "soup = soup.find('form')\n",
    "all_tags = soup.find_all()\n",
    "\n",
    "# Remove all tags except for 'link', 'input', and 'select' tags\n",
    "i=0\n",
    "for element in all_tags:\n",
    "    if element.name  in ['div','text']: \n",
    "    #if element.name not in ['a','link', 'input', 'select','radio','button']:\n",
    "        \n",
    "        element.unwrap()\n",
    "    else:\n",
    "        element['backend_node_id']=i\n",
    "        \n",
    "        if 'class' in element.attrs:\n",
    "            del element['class']\n",
    "            pass\n",
    "        if 'bounding_box_rect' in element.attrs:\n",
    "            del element['bounding_box_rect']\n",
    "            pass\n",
    "        if 'is_clickable' in element.attrs:\n",
    "            del element['is_clickable']\n",
    "            pass\n",
    "        \n",
    "            \n",
    "        i+=1\n",
    "\n",
    "     \n",
    "\n",
    "s = soup.prettify()\n",
    "#b = s.split(\"/>\")\n",
    "x = toknizer(s,return_tensors='pt')\n",
    "print(x['input_ids'].shape[1],x['input_ids'].shape[1]/16348)\n",
    "\n",
    "\n",
    "print(s)\n",
    "if False:\n",
    "    for i in b:\n",
    "        print(i)\n",
    "        print('---------------------')\n",
    "\"\"\""
   ]
  },
  {
   "cell_type": "code",
   "execution_count": null,
   "metadata": {},
   "outputs": [],
   "source": [
    "from IPython.display import display, HTML\n",
    "display(HTML(s))\n"
   ]
  },
  {
   "cell_type": "code",
   "execution_count": null,
   "metadata": {},
   "outputs": [],
   "source": [
    "display(HTML(s))\n"
   ]
  },
  {
   "cell_type": "code",
   "execution_count": null,
   "metadata": {},
   "outputs": [],
   "source": [
    "mydata.iloc[1,:]"
   ]
  }
 ],
 "metadata": {
  "kernelspec": {
   "display_name": "myenv",
   "language": "python",
   "name": "python3"
  },
  "language_info": {
   "codemirror_mode": {
    "name": "ipython",
    "version": 3
   },
   "file_extension": ".py",
   "mimetype": "text/x-python",
   "name": "python",
   "nbconvert_exporter": "python",
   "pygments_lexer": "ipython3",
   "version": "3.11.2"
  }
 },
 "nbformat": 4,
 "nbformat_minor": 2
}
